{
 "cells": [
  {
   "cell_type": "markdown",
   "metadata": {},
   "source": [
    "Низкое качество моделей, по моему мнению связано с ошибками в парсинге, с чем я буду бороться в дальнейшем. К сожалению, не могу сейчас уделить этому больше внимания в связи с дедлайном проекта"
   ]
  },
  {
   "cell_type": "code",
   "execution_count": 255,
   "metadata": {},
   "outputs": [],
   "source": [
    "import requests\n",
    "from bs4 import BeautifulSoup\n",
    "import csv\n",
    "import time\n",
    "import json\n",
    "import re\n",
    "import pandas as pd\n",
    "from joblib import Parallel, delayed\n",
    "import re\n",
    "import sys\n",
    "import numpy as np\n",
    "import pandas as pd\n",
    "import pandas.api.types as at\n",
    "from tqdm import tqdm\n",
    "from datetime import timedelta, datetime, date\n",
    "import matplotlib.pyplot as plt\n",
    "import seaborn as sns\n",
    "import xgboost as xgb\n",
    "from sklearn.preprocessing import MinMaxScaler\n",
    "from sklearn.preprocessing import StandardScaler\n",
    "from sklearn.model_selection import train_test_split\n",
    "from sklearn.model_selection import KFold\n",
    "from tqdm.notebook import tqdm\n",
    "from catboost import CatBoostRegressor\n",
    "from sklearn.ensemble import RandomForestRegressor\n",
    "from sklearn.ensemble import GradientBoostingRegressor\n",
    "from sklearn.ensemble import BaggingRegressor\n",
    "from sklearn.ensemble import StackingRegressor\n",
    "from sklearn.model_selection import RandomizedSearchCV\n",
    "from sklearn.preprocessing import PolynomialFeatures\n",
    "from sklearn.preprocessing import LabelEncoder"
   ]
  },
  {
   "cell_type": "code",
   "execution_count": 256,
   "metadata": {},
   "outputs": [],
   "source": [
    "df_1 = pd.read_csv('Final_df.csv')\n",
    "df_1_1 = pd.read_csv('Final_df_continue.csv')\n",
    "df_2 = pd.read_csv('Final_df_2.csv')\n",
    "df_3 = pd.read_csv('Final_df_3.csv')\n",
    "df_4 = pd.read_csv('Final_df_4.csv')\n",
    "df_4_1 = pd.read_csv('Final_df_4_c.csv')\n",
    "df_4_2 = pd.read_csv('Final_df_4_c_c.csv')\n",
    "df_4_3 = pd.read_csv('Final_df_4_c_v.csv')\n",
    "df_5 = pd.read_csv('Final_df_5.csv')\n",
    "df_6 = pd.read_csv('Final_df_6.csv')\n",
    "df_7 = pd.read_csv('Final_df_7.csv')\n",
    "df_7_1 = pd.read_csv('Final_df_7_1.csv')\n",
    "df_8 = pd.read_csv('Final_df_8.csv')\n",
    "df_9 = pd.read_csv('Final_df_9.csv')\n",
    "df_10 = pd.read_csv('Final_df_10.csv')"
   ]
  },
  {
   "cell_type": "code",
   "execution_count": 257,
   "metadata": {},
   "outputs": [],
   "source": [
    "final_df = pd.concat([df_1,df_1_1], sort = False, axis = 0)\n",
    "final_df = pd.concat([final_df,df_2], sort = False, axis = 0)\n",
    "final_df = pd.concat([final_df,df_3], sort = False, axis = 0)\n",
    "final_df = pd.concat([final_df,df_4], sort = False, axis = 0)\n",
    "final_df = pd.concat([final_df,df_4_1], sort = False, axis = 0)\n",
    "final_df = pd.concat([final_df,df_4_2], sort = False, axis = 0)\n",
    "final_df = pd.concat([final_df,df_4_3], sort = False, axis = 0)\n",
    "final_df = pd.concat([final_df,df_5], sort = False, axis = 0)\n",
    "final_df = pd.concat([final_df,df_6], sort = False, axis = 0)\n",
    "final_df = pd.concat([final_df,df_7], sort = False, axis = 0)\n",
    "final_df = pd.concat([final_df,df_7_1], sort = False, axis = 0)\n",
    "final_df = pd.concat([final_df,df_8], sort = False, axis = 0)\n",
    "final_df = pd.concat([final_df,df_9], sort = False, axis = 0)\n",
    "final_df = pd.concat([final_df,df_10], sort = False, axis = 0)"
   ]
  },
  {
   "cell_type": "markdown",
   "metadata": {},
   "source": [
    "В процессе парсинга уже были удалены удаленные объявления, поэтому сейчас не надо их удалять"
   ]
  },
  {
   "cell_type": "code",
   "execution_count": 258,
   "metadata": {},
   "outputs": [
    {
     "data": {
      "text/html": [
       "<div>\n",
       "<style scoped>\n",
       "    .dataframe tbody tr th:only-of-type {\n",
       "        vertical-align: middle;\n",
       "    }\n",
       "\n",
       "    .dataframe tbody tr th {\n",
       "        vertical-align: top;\n",
       "    }\n",
       "\n",
       "    .dataframe thead th {\n",
       "        text-align: right;\n",
       "    }\n",
       "</style>\n",
       "<table border=\"1\" class=\"dataframe\">\n",
       "  <thead>\n",
       "    <tr style=\"text-align: right;\">\n",
       "      <th></th>\n",
       "      <th>Unnamed: 0</th>\n",
       "      <th>car_url</th>\n",
       "      <th>bodyType</th>\n",
       "      <th>brand</th>\n",
       "      <th>color</th>\n",
       "      <th>complectation_dict</th>\n",
       "      <th>description</th>\n",
       "      <th>engineDisplacement</th>\n",
       "      <th>enginePower</th>\n",
       "      <th>equipment_dict</th>\n",
       "      <th>fuelType</th>\n",
       "      <th>image</th>\n",
       "      <th>mileage</th>\n",
       "      <th>modelDate</th>\n",
       "      <th>model_name</th>\n",
       "      <th>name</th>\n",
       "      <th>numberOfDoors</th>\n",
       "      <th>parsing_unixtime</th>\n",
       "      <th>price</th>\n",
       "      <th>priceCurrency</th>\n",
       "      <th>productionDate</th>\n",
       "      <th>sell_id</th>\n",
       "      <th>views</th>\n",
       "      <th>date_added</th>\n",
       "      <th>super_gen</th>\n",
       "      <th>vehicleConfiguration</th>\n",
       "      <th>vehicleTransmission</th>\n",
       "      <th>Владельцы</th>\n",
       "      <th>Владение</th>\n",
       "      <th>ПТС</th>\n",
       "      <th>Привод</th>\n",
       "      <th>Руль</th>\n",
       "      <th>Состояние</th>\n",
       "      <th>Таможня</th>\n",
       "      <th>region</th>\n",
       "    </tr>\n",
       "  </thead>\n",
       "  <tbody>\n",
       "    <tr>\n",
       "      <th>0</th>\n",
       "      <td>https://auto.ru/cars/used/sale/mercedes/viano/...</td>\n",
       "      <td>https://auto.ru/cars/used/sale/mercedes/viano/...</td>\n",
       "      <td>минивэн</td>\n",
       "      <td>MERCEDES</td>\n",
       "      <td>чёрный</td>\n",
       "      <td>[]</td>\n",
       "      <td>В нашем автосалоне Вы можете автомобиль купить...</td>\n",
       "      <td>2.1 LTR</td>\n",
       "      <td>163 N12</td>\n",
       "      <td>{'cruise-control': True, 'asr': True, 'tinted-...</td>\n",
       "      <td>дизель</td>\n",
       "      <td>https://autoru.naydex.net/Qm17tv105/bdf4759E5M...</td>\n",
       "      <td>132 000 км</td>\n",
       "      <td>2010</td>\n",
       "      <td>Viano</td>\n",
       "      <td>Mercedes-Benz Viano L2 I (W639) Рестайлинг</td>\n",
       "      <td>4</td>\n",
       "      <td>1633028022</td>\n",
       "      <td>2310000.0</td>\n",
       "      <td>RUB</td>\n",
       "      <td>2013</td>\n",
       "      <td>1105117069</td>\n",
       "      <td>462.0</td>\n",
       "      <td>28 сентября</td>\n",
       "      <td>{'sale-data-attributes': {'asciiCat': 'cars', ...</td>\n",
       "      <td>MINIVAN MECHANICAL 2.1</td>\n",
       "      <td>механическая</td>\n",
       "      <td>3 или более</td>\n",
       "      <td>NaN</td>\n",
       "      <td>Оригинал</td>\n",
       "      <td>задний</td>\n",
       "      <td>Левый</td>\n",
       "      <td>Не требует ремонта</td>\n",
       "      <td>Растаможен</td>\n",
       "      <td>в Москве</td>\n",
       "    </tr>\n",
       "    <tr>\n",
       "      <th>1</th>\n",
       "      <td>https://auto.ru/cars/used/sale/land_rover/disc...</td>\n",
       "      <td>https://auto.ru/cars/used/sale/land_rover/disc...</td>\n",
       "      <td>внедорожник 5 дв.</td>\n",
       "      <td>LAND_ROVER</td>\n",
       "      <td>серый</td>\n",
       "      <td>[]</td>\n",
       "      <td>Легендарный внедорожник от британской компании...</td>\n",
       "      <td>2.5 LTR</td>\n",
       "      <td>138 N12</td>\n",
       "      <td>{}</td>\n",
       "      <td>дизель</td>\n",
       "      <td>https://avatars.mds.yandex.net/get-autoru-vos/...</td>\n",
       "      <td>466 000 км</td>\n",
       "      <td>1998</td>\n",
       "      <td>Discovery</td>\n",
       "      <td>Land Rover Discovery II</td>\n",
       "      <td>5</td>\n",
       "      <td>1633028024</td>\n",
       "      <td>500000.0</td>\n",
       "      <td>RUB</td>\n",
       "      <td>2001</td>\n",
       "      <td>1105409986</td>\n",
       "      <td>1052.0</td>\n",
       "      <td>26 сентября</td>\n",
       "      <td>{'sale-data-attributes': {'asciiCat': 'cars', ...</td>\n",
       "      <td>ALLROAD_5_DOORS AUTOMATIC 2.5</td>\n",
       "      <td>автоматическая</td>\n",
       "      <td>2 владельца</td>\n",
       "      <td>NaN</td>\n",
       "      <td>Оригинал</td>\n",
       "      <td>полный</td>\n",
       "      <td>Левый</td>\n",
       "      <td>Не требует ремонта</td>\n",
       "      <td>Растаможен</td>\n",
       "      <td>в Измайлово</td>\n",
       "    </tr>\n",
       "    <tr>\n",
       "      <th>2</th>\n",
       "      <td>https://auto.ru/cars/new/group/land_rover/rang...</td>\n",
       "      <td>https://auto.ru/cars/new/group/land_rover/rang...</td>\n",
       "      <td>внедорожник 5 дв.</td>\n",
       "      <td>LAND_ROVER</td>\n",
       "      <td>чёрный</td>\n",
       "      <td>[]</td>\n",
       "      <td>РОЛЬФ Октябрьская Jaguar Land Rover предлагает...</td>\n",
       "      <td>3.0 LTR</td>\n",
       "      <td>380 N12</td>\n",
       "      <td>{'cruise-control': True, 'tinted-glass': True,...</td>\n",
       "      <td>бензин</td>\n",
       "      <td>https://autoru.naydex.net/Qm17tv105/bdf4759E5M...</td>\n",
       "      <td>NaN</td>\n",
       "      <td>2017</td>\n",
       "      <td>NaN</td>\n",
       "      <td>Land Rover Range Rover IV Рестайлинг</td>\n",
       "      <td>5</td>\n",
       "      <td>1633028025</td>\n",
       "      <td>12760000.0</td>\n",
       "      <td>RUB</td>\n",
       "      <td>2021</td>\n",
       "      <td>1105098754</td>\n",
       "      <td>NaN</td>\n",
       "      <td>NaN</td>\n",
       "      <td>{'sale-data-attributes': {'asciiCat': 'cars', ...</td>\n",
       "      <td>ALLROAD_5_DOORS AUTOMATIC 3.0</td>\n",
       "      <td>автоматическая</td>\n",
       "      <td>NaN</td>\n",
       "      <td>NaN</td>\n",
       "      <td>NaN</td>\n",
       "      <td>NaN</td>\n",
       "      <td>NaN</td>\n",
       "      <td>NaN</td>\n",
       "      <td>NaN</td>\n",
       "      <td>NaN</td>\n",
       "    </tr>\n",
       "    <tr>\n",
       "      <th>3</th>\n",
       "      <td>https://auto.ru/cars/new/group/bmw/x5/21718431...</td>\n",
       "      <td>https://auto.ru/cars/new/group/bmw/x5/21718431...</td>\n",
       "      <td>внедорожник 5 дв.</td>\n",
       "      <td>BMW</td>\n",
       "      <td>чёрный</td>\n",
       "      <td>[]</td>\n",
       "      <td>УСПЕЙТЕ ДО ПОВЫШЕНИЯ ЦЕН ПОКА ДРУГИЕ ДИКТУЮТ У...</td>\n",
       "      <td>2.0 LTR</td>\n",
       "      <td>231 N12</td>\n",
       "      <td>{'asr': True, 'tinted-glass': True, 'esp': Tru...</td>\n",
       "      <td>дизель</td>\n",
       "      <td>https://avatars.mds.yandex.net/get-autoru-vos/...</td>\n",
       "      <td>NaN</td>\n",
       "      <td>2018</td>\n",
       "      <td>NaN</td>\n",
       "      <td>BMW X5 25d IV (G05)</td>\n",
       "      <td>5</td>\n",
       "      <td>1633058109</td>\n",
       "      <td>8890000.0</td>\n",
       "      <td>RUB</td>\n",
       "      <td>2021</td>\n",
       "      <td>1105436641</td>\n",
       "      <td>NaN</td>\n",
       "      <td>NaN</td>\n",
       "      <td>{'sale-data-attributes': {'asciiCat': 'cars', ...</td>\n",
       "      <td>ALLROAD_5_DOORS AUTOMATIC 2.0</td>\n",
       "      <td>автоматическая</td>\n",
       "      <td>NaN</td>\n",
       "      <td>NaN</td>\n",
       "      <td>NaN</td>\n",
       "      <td>NaN</td>\n",
       "      <td>NaN</td>\n",
       "      <td>NaN</td>\n",
       "      <td>NaN</td>\n",
       "      <td>NaN</td>\n",
       "    </tr>\n",
       "    <tr>\n",
       "      <th>4</th>\n",
       "      <td>https://auto.ru/cars/used/sale/mazda/cx_5/1105...</td>\n",
       "      <td>https://auto.ru/cars/used/sale/mazda/cx_5/1105...</td>\n",
       "      <td>внедорожник 5 дв.</td>\n",
       "      <td>MAZDA</td>\n",
       "      <td>серый</td>\n",
       "      <td>['multi-wheel', 'airbag-passenger', 'bas', 'lo...</td>\n",
       "      <td>Если Вы хотите приобрести автомобиль с пробег...</td>\n",
       "      <td>2.0 LTR</td>\n",
       "      <td>150 N12</td>\n",
       "      <td>{'cruise-control': True, 'asr': True, 'tinted-...</td>\n",
       "      <td>бензин</td>\n",
       "      <td>https://autoru.naydex.net/T171DRu50/b651fb4jRP...</td>\n",
       "      <td>53 000 км</td>\n",
       "      <td>2017</td>\n",
       "      <td>CX-5</td>\n",
       "      <td>Mazda CX-5 II</td>\n",
       "      <td>5</td>\n",
       "      <td>1633058228</td>\n",
       "      <td>2620000.0</td>\n",
       "      <td>RUB</td>\n",
       "      <td>2019</td>\n",
       "      <td>1105206979</td>\n",
       "      <td>90.0</td>\n",
       "      <td>29 сентября</td>\n",
       "      <td>{'sale-data-attributes': {'asciiCat': 'cars', ...</td>\n",
       "      <td>ALLROAD_5_DOORS MECHANICAL 2.0</td>\n",
       "      <td>механическая</td>\n",
       "      <td>1 владелец</td>\n",
       "      <td>NaN</td>\n",
       "      <td>Оригинал</td>\n",
       "      <td>передний</td>\n",
       "      <td>Левый</td>\n",
       "      <td>Не требует ремонта</td>\n",
       "      <td>Растаможен</td>\n",
       "      <td>в Химках</td>\n",
       "    </tr>\n",
       "    <tr>\n",
       "      <th>...</th>\n",
       "      <td>...</td>\n",
       "      <td>...</td>\n",
       "      <td>...</td>\n",
       "      <td>...</td>\n",
       "      <td>...</td>\n",
       "      <td>...</td>\n",
       "      <td>...</td>\n",
       "      <td>...</td>\n",
       "      <td>...</td>\n",
       "      <td>...</td>\n",
       "      <td>...</td>\n",
       "      <td>...</td>\n",
       "      <td>...</td>\n",
       "      <td>...</td>\n",
       "      <td>...</td>\n",
       "      <td>...</td>\n",
       "      <td>...</td>\n",
       "      <td>...</td>\n",
       "      <td>...</td>\n",
       "      <td>...</td>\n",
       "      <td>...</td>\n",
       "      <td>...</td>\n",
       "      <td>...</td>\n",
       "      <td>...</td>\n",
       "      <td>...</td>\n",
       "      <td>...</td>\n",
       "      <td>...</td>\n",
       "      <td>...</td>\n",
       "      <td>...</td>\n",
       "      <td>...</td>\n",
       "      <td>...</td>\n",
       "      <td>...</td>\n",
       "      <td>...</td>\n",
       "      <td>...</td>\n",
       "      <td>...</td>\n",
       "    </tr>\n",
       "    <tr>\n",
       "      <th>256</th>\n",
       "      <td>https://auto.ru/cars/used/sale/daewoo/matiz/11...</td>\n",
       "      <td>https://auto.ru/cars/used/sale/daewoo/matiz/11...</td>\n",
       "      <td>хэтчбек 5 дв.</td>\n",
       "      <td>DAEWOO</td>\n",
       "      <td>чёрный</td>\n",
       "      <td>['seat-transformation', 'fabric-seats', 'steel...</td>\n",
       "      <td>Состояние отлично весь ходовой поменяли глушит...</td>\n",
       "      <td>0.8 LTR</td>\n",
       "      <td>52 N12</td>\n",
       "      <td>{'tinted-glass': True, 'abs': True, 'ptf': Tru...</td>\n",
       "      <td>бензин</td>\n",
       "      <td>https://avatars.mds.yandex.net/get-autoru-vos/...</td>\n",
       "      <td>150 000 км</td>\n",
       "      <td>2000</td>\n",
       "      <td>Matiz</td>\n",
       "      <td>Daewoo Matiz I Рестайлинг</td>\n",
       "      <td>5</td>\n",
       "      <td>1633152004</td>\n",
       "      <td>150000.0</td>\n",
       "      <td>RUB</td>\n",
       "      <td>2013</td>\n",
       "      <td>1105172797</td>\n",
       "      <td>1408.0</td>\n",
       "      <td>26 сентября</td>\n",
       "      <td>{'sale-data-attributes': {'asciiCat': 'cars', ...</td>\n",
       "      <td>HATCHBACK_5_DOORS MECHANICAL 0.8</td>\n",
       "      <td>механическая</td>\n",
       "      <td>2 владельца</td>\n",
       "      <td>NaN</td>\n",
       "      <td>Оригинал</td>\n",
       "      <td>передний</td>\n",
       "      <td>Левый</td>\n",
       "      <td>Не требует ремонта</td>\n",
       "      <td>Растаможен</td>\n",
       "      <td>в Москве</td>\n",
       "    </tr>\n",
       "    <tr>\n",
       "      <th>257</th>\n",
       "      <td>https://auto.ru/cars/used/sale/nissan/juke/110...</td>\n",
       "      <td>https://auto.ru/cars/used/sale/nissan/juke/110...</td>\n",
       "      <td>внедорожник 5 дв.</td>\n",
       "      <td>NISSAN</td>\n",
       "      <td>красный</td>\n",
       "      <td>[]</td>\n",
       "      <td>Состояние нового автомобиля Гаражное хранение ...</td>\n",
       "      <td>1.5 LTR</td>\n",
       "      <td>110 N12</td>\n",
       "      <td>{'cruise-control': True, 'engine-proof': True,...</td>\n",
       "      <td>дизель</td>\n",
       "      <td>https://autoru.naydex.net/9HIjHa497/6df40eS1pm...</td>\n",
       "      <td>144 000 км</td>\n",
       "      <td>2010</td>\n",
       "      <td>Juke</td>\n",
       "      <td>Nissan Juke I</td>\n",
       "      <td>5</td>\n",
       "      <td>1633151275</td>\n",
       "      <td>970000.0</td>\n",
       "      <td>RUB</td>\n",
       "      <td>2013</td>\n",
       "      <td>1105447617</td>\n",
       "      <td>102.0</td>\n",
       "      <td>29 сентября</td>\n",
       "      <td>{'sale-data-attributes': {'asciiCat': 'cars', ...</td>\n",
       "      <td>ALLROAD_5_DOORS MECHANICAL 1.5</td>\n",
       "      <td>механическая</td>\n",
       "      <td>1 владелец</td>\n",
       "      <td>7 лет и 11 месяцев</td>\n",
       "      <td>Оригинал</td>\n",
       "      <td>передний</td>\n",
       "      <td>Левый</td>\n",
       "      <td>Не требует ремонта</td>\n",
       "      <td>Растаможен</td>\n",
       "      <td>в Москве</td>\n",
       "    </tr>\n",
       "    <tr>\n",
       "      <th>258</th>\n",
       "      <td>https://auto.ru/cars/used/sale/daewoo/matiz/11...</td>\n",
       "      <td>https://auto.ru/cars/used/sale/daewoo/matiz/11...</td>\n",
       "      <td>хэтчбек 5 дв.</td>\n",
       "      <td>DAEWOO</td>\n",
       "      <td>чёрный</td>\n",
       "      <td>['seat-transformation', 'fabric-seats', 'steel...</td>\n",
       "      <td>Продам малыша в очень хорошем состоянии Автомо...</td>\n",
       "      <td>0.8 LTR</td>\n",
       "      <td>52 N12</td>\n",
       "      <td>{'paint-metallic': True, 'steel-wheels': True,...</td>\n",
       "      <td>бензин</td>\n",
       "      <td>https://autoru.naydex.net/9HIjHa497/6df40eS1pm...</td>\n",
       "      <td>154 000 км</td>\n",
       "      <td>2000</td>\n",
       "      <td>Matiz</td>\n",
       "      <td>Daewoo Matiz I Рестайлинг</td>\n",
       "      <td>5</td>\n",
       "      <td>1633151967</td>\n",
       "      <td>NaN</td>\n",
       "      <td>RUB</td>\n",
       "      <td>2010</td>\n",
       "      <td>1105447628</td>\n",
       "      <td>106.0</td>\n",
       "      <td>29 сентября</td>\n",
       "      <td>{'sale-data-attributes': {'asciiCat': 'cars', ...</td>\n",
       "      <td>HATCHBACK_5_DOORS MECHANICAL 0.8</td>\n",
       "      <td>механическая</td>\n",
       "      <td>3 или более</td>\n",
       "      <td>NaN</td>\n",
       "      <td>Оригинал</td>\n",
       "      <td>передний</td>\n",
       "      <td>Левый</td>\n",
       "      <td>Не требует ремонта</td>\n",
       "      <td>Растаможен</td>\n",
       "      <td>в Челябинске</td>\n",
       "    </tr>\n",
       "    <tr>\n",
       "      <th>259</th>\n",
       "      <td>https://auto.ru/cars/used/sale/ford/explorer/1...</td>\n",
       "      <td>https://auto.ru/cars/used/sale/ford/explorer/1...</td>\n",
       "      <td>внедорожник 5 дв.</td>\n",
       "      <td>FORD</td>\n",
       "      <td>чёрный</td>\n",
       "      <td>['cruise-control', 'multi-wheel', 'airbag-pass...</td>\n",
       "      <td>Автомобиль в наличии ПТС 2014 год 3 5 249 л с ...</td>\n",
       "      <td>3.5 LTR</td>\n",
       "      <td>249 N12</td>\n",
       "      <td>{'asr': True, 'tinted-glass': True, 'esp': Tru...</td>\n",
       "      <td>бензин</td>\n",
       "      <td>https://autoru.naydex.net/9HIjHa497/6df40eS1pm...</td>\n",
       "      <td>177 000 км</td>\n",
       "      <td>2010</td>\n",
       "      <td>Explorer</td>\n",
       "      <td>Ford Explorer V</td>\n",
       "      <td>5</td>\n",
       "      <td>1633151984</td>\n",
       "      <td>1800000.0</td>\n",
       "      <td>RUB</td>\n",
       "      <td>2014</td>\n",
       "      <td>1105275500</td>\n",
       "      <td>145.0</td>\n",
       "      <td>1 октября</td>\n",
       "      <td>{'sale-data-attributes': {'asciiCat': 'cars', ...</td>\n",
       "      <td>ALLROAD_5_DOORS AUTOMATIC 3.5</td>\n",
       "      <td>автоматическая</td>\n",
       "      <td>2 владельца</td>\n",
       "      <td>NaN</td>\n",
       "      <td>Оригинал</td>\n",
       "      <td>полный</td>\n",
       "      <td>Левый</td>\n",
       "      <td>Не требует ремонта</td>\n",
       "      <td>Растаможен</td>\n",
       "      <td>в Москве</td>\n",
       "    </tr>\n",
       "    <tr>\n",
       "      <th>260</th>\n",
       "      <td>https://auto.ru/cars/new/group/land_rover/rang...</td>\n",
       "      <td>https://auto.ru/cars/new/group/land_rover/rang...</td>\n",
       "      <td>внедорожник 5 дв.</td>\n",
       "      <td>LAND_ROVER</td>\n",
       "      <td>чёрный</td>\n",
       "      <td>[]</td>\n",
       "      <td>РОЛЬФ Октябрьская Jaguar Land Rover предлагает...</td>\n",
       "      <td>3.0 LTR</td>\n",
       "      <td>380 N12</td>\n",
       "      <td>{'cruise-control': True, 'tinted-glass': True,...</td>\n",
       "      <td>бензин</td>\n",
       "      <td>https://avatars.mds.yandex.net/get-autoru-vos/...</td>\n",
       "      <td>NaN</td>\n",
       "      <td>2017</td>\n",
       "      <td>NaN</td>\n",
       "      <td>Land Rover Range Rover IV Рестайлинг</td>\n",
       "      <td>5</td>\n",
       "      <td>1633151986</td>\n",
       "      <td>12760000.0</td>\n",
       "      <td>RUB</td>\n",
       "      <td>2021</td>\n",
       "      <td>1105098754</td>\n",
       "      <td>NaN</td>\n",
       "      <td>NaN</td>\n",
       "      <td>{'sale-data-attributes': {'asciiCat': 'cars', ...</td>\n",
       "      <td>ALLROAD_5_DOORS AUTOMATIC 3.0</td>\n",
       "      <td>автоматическая</td>\n",
       "      <td>NaN</td>\n",
       "      <td>NaN</td>\n",
       "      <td>NaN</td>\n",
       "      <td>NaN</td>\n",
       "      <td>NaN</td>\n",
       "      <td>NaN</td>\n",
       "      <td>NaN</td>\n",
       "      <td>NaN</td>\n",
       "    </tr>\n",
       "  </tbody>\n",
       "</table>\n",
       "<p>4763 rows × 35 columns</p>\n",
       "</div>"
      ],
      "text/plain": [
       "                                            Unnamed: 0  \\\n",
       "0    https://auto.ru/cars/used/sale/mercedes/viano/...   \n",
       "1    https://auto.ru/cars/used/sale/land_rover/disc...   \n",
       "2    https://auto.ru/cars/new/group/land_rover/rang...   \n",
       "3    https://auto.ru/cars/new/group/bmw/x5/21718431...   \n",
       "4    https://auto.ru/cars/used/sale/mazda/cx_5/1105...   \n",
       "..                                                 ...   \n",
       "256  https://auto.ru/cars/used/sale/daewoo/matiz/11...   \n",
       "257  https://auto.ru/cars/used/sale/nissan/juke/110...   \n",
       "258  https://auto.ru/cars/used/sale/daewoo/matiz/11...   \n",
       "259  https://auto.ru/cars/used/sale/ford/explorer/1...   \n",
       "260  https://auto.ru/cars/new/group/land_rover/rang...   \n",
       "\n",
       "                                               car_url           bodyType  \\\n",
       "0    https://auto.ru/cars/used/sale/mercedes/viano/...            минивэн   \n",
       "1    https://auto.ru/cars/used/sale/land_rover/disc...  внедорожник 5 дв.   \n",
       "2    https://auto.ru/cars/new/group/land_rover/rang...  внедорожник 5 дв.   \n",
       "3    https://auto.ru/cars/new/group/bmw/x5/21718431...  внедорожник 5 дв.   \n",
       "4    https://auto.ru/cars/used/sale/mazda/cx_5/1105...  внедорожник 5 дв.   \n",
       "..                                                 ...                ...   \n",
       "256  https://auto.ru/cars/used/sale/daewoo/matiz/11...      хэтчбек 5 дв.   \n",
       "257  https://auto.ru/cars/used/sale/nissan/juke/110...  внедорожник 5 дв.   \n",
       "258  https://auto.ru/cars/used/sale/daewoo/matiz/11...      хэтчбек 5 дв.   \n",
       "259  https://auto.ru/cars/used/sale/ford/explorer/1...  внедорожник 5 дв.   \n",
       "260  https://auto.ru/cars/new/group/land_rover/rang...  внедорожник 5 дв.   \n",
       "\n",
       "          brand    color                                 complectation_dict  \\\n",
       "0      MERCEDES   чёрный                                                 []   \n",
       "1    LAND_ROVER    серый                                                 []   \n",
       "2    LAND_ROVER   чёрный                                                 []   \n",
       "3           BMW   чёрный                                                 []   \n",
       "4         MAZDA    серый  ['multi-wheel', 'airbag-passenger', 'bas', 'lo...   \n",
       "..          ...      ...                                                ...   \n",
       "256      DAEWOO   чёрный  ['seat-transformation', 'fabric-seats', 'steel...   \n",
       "257      NISSAN  красный                                                 []   \n",
       "258      DAEWOO   чёрный  ['seat-transformation', 'fabric-seats', 'steel...   \n",
       "259        FORD   чёрный  ['cruise-control', 'multi-wheel', 'airbag-pass...   \n",
       "260  LAND_ROVER   чёрный                                                 []   \n",
       "\n",
       "                                           description engineDisplacement  \\\n",
       "0    В нашем автосалоне Вы можете автомобиль купить...            2.1 LTR   \n",
       "1    Легендарный внедорожник от британской компании...            2.5 LTR   \n",
       "2    РОЛЬФ Октябрьская Jaguar Land Rover предлагает...            3.0 LTR   \n",
       "3    УСПЕЙТЕ ДО ПОВЫШЕНИЯ ЦЕН ПОКА ДРУГИЕ ДИКТУЮТ У...            2.0 LTR   \n",
       "4     Если Вы хотите приобрести автомобиль с пробег...            2.0 LTR   \n",
       "..                                                 ...                ...   \n",
       "256  Состояние отлично весь ходовой поменяли глушит...            0.8 LTR   \n",
       "257  Состояние нового автомобиля Гаражное хранение ...            1.5 LTR   \n",
       "258  Продам малыша в очень хорошем состоянии Автомо...            0.8 LTR   \n",
       "259  Автомобиль в наличии ПТС 2014 год 3 5 249 л с ...            3.5 LTR   \n",
       "260  РОЛЬФ Октябрьская Jaguar Land Rover предлагает...            3.0 LTR   \n",
       "\n",
       "    enginePower                                     equipment_dict fuelType  \\\n",
       "0       163 N12  {'cruise-control': True, 'asr': True, 'tinted-...   дизель   \n",
       "1       138 N12                                                 {}   дизель   \n",
       "2       380 N12  {'cruise-control': True, 'tinted-glass': True,...   бензин   \n",
       "3       231 N12  {'asr': True, 'tinted-glass': True, 'esp': Tru...   дизель   \n",
       "4       150 N12  {'cruise-control': True, 'asr': True, 'tinted-...   бензин   \n",
       "..          ...                                                ...      ...   \n",
       "256      52 N12  {'tinted-glass': True, 'abs': True, 'ptf': Tru...   бензин   \n",
       "257     110 N12  {'cruise-control': True, 'engine-proof': True,...   дизель   \n",
       "258      52 N12  {'paint-metallic': True, 'steel-wheels': True,...   бензин   \n",
       "259     249 N12  {'asr': True, 'tinted-glass': True, 'esp': Tru...   бензин   \n",
       "260     380 N12  {'cruise-control': True, 'tinted-glass': True,...   бензин   \n",
       "\n",
       "                                                 image     mileage  modelDate  \\\n",
       "0    https://autoru.naydex.net/Qm17tv105/bdf4759E5M...  132 000 км       2010   \n",
       "1    https://avatars.mds.yandex.net/get-autoru-vos/...  466 000 км       1998   \n",
       "2    https://autoru.naydex.net/Qm17tv105/bdf4759E5M...         NaN       2017   \n",
       "3    https://avatars.mds.yandex.net/get-autoru-vos/...         NaN       2018   \n",
       "4    https://autoru.naydex.net/T171DRu50/b651fb4jRP...   53 000 км       2017   \n",
       "..                                                 ...         ...        ...   \n",
       "256  https://avatars.mds.yandex.net/get-autoru-vos/...  150 000 км       2000   \n",
       "257  https://autoru.naydex.net/9HIjHa497/6df40eS1pm...  144 000 км       2010   \n",
       "258  https://autoru.naydex.net/9HIjHa497/6df40eS1pm...  154 000 км       2000   \n",
       "259  https://autoru.naydex.net/9HIjHa497/6df40eS1pm...  177 000 км       2010   \n",
       "260  https://avatars.mds.yandex.net/get-autoru-vos/...         NaN       2017   \n",
       "\n",
       "    model_name                                        name  numberOfDoors  \\\n",
       "0        Viano  Mercedes-Benz Viano L2 I (W639) Рестайлинг              4   \n",
       "1    Discovery                     Land Rover Discovery II              5   \n",
       "2          NaN        Land Rover Range Rover IV Рестайлинг              5   \n",
       "3          NaN                         BMW X5 25d IV (G05)              5   \n",
       "4         CX-5                               Mazda CX-5 II              5   \n",
       "..         ...                                         ...            ...   \n",
       "256      Matiz                   Daewoo Matiz I Рестайлинг              5   \n",
       "257       Juke                               Nissan Juke I              5   \n",
       "258      Matiz                   Daewoo Matiz I Рестайлинг              5   \n",
       "259   Explorer                             Ford Explorer V              5   \n",
       "260        NaN        Land Rover Range Rover IV Рестайлинг              5   \n",
       "\n",
       "     parsing_unixtime       price priceCurrency  productionDate     sell_id  \\\n",
       "0          1633028022   2310000.0           RUB            2013  1105117069   \n",
       "1          1633028024    500000.0           RUB            2001  1105409986   \n",
       "2          1633028025  12760000.0           RUB            2021  1105098754   \n",
       "3          1633058109   8890000.0           RUB            2021  1105436641   \n",
       "4          1633058228   2620000.0           RUB            2019  1105206979   \n",
       "..                ...         ...           ...             ...         ...   \n",
       "256        1633152004    150000.0           RUB            2013  1105172797   \n",
       "257        1633151275    970000.0           RUB            2013  1105447617   \n",
       "258        1633151967         NaN           RUB            2010  1105447628   \n",
       "259        1633151984   1800000.0           RUB            2014  1105275500   \n",
       "260        1633151986  12760000.0           RUB            2021  1105098754   \n",
       "\n",
       "      views   date_added                                          super_gen  \\\n",
       "0     462.0  28 сентября  {'sale-data-attributes': {'asciiCat': 'cars', ...   \n",
       "1    1052.0  26 сентября  {'sale-data-attributes': {'asciiCat': 'cars', ...   \n",
       "2       NaN          NaN  {'sale-data-attributes': {'asciiCat': 'cars', ...   \n",
       "3       NaN          NaN  {'sale-data-attributes': {'asciiCat': 'cars', ...   \n",
       "4      90.0  29 сентября  {'sale-data-attributes': {'asciiCat': 'cars', ...   \n",
       "..      ...          ...                                                ...   \n",
       "256  1408.0  26 сентября  {'sale-data-attributes': {'asciiCat': 'cars', ...   \n",
       "257   102.0  29 сентября  {'sale-data-attributes': {'asciiCat': 'cars', ...   \n",
       "258   106.0  29 сентября  {'sale-data-attributes': {'asciiCat': 'cars', ...   \n",
       "259   145.0    1 октября  {'sale-data-attributes': {'asciiCat': 'cars', ...   \n",
       "260     NaN          NaN  {'sale-data-attributes': {'asciiCat': 'cars', ...   \n",
       "\n",
       "                 vehicleConfiguration vehicleTransmission    Владельцы  \\\n",
       "0              MINIVAN MECHANICAL 2.1        механическая  3 или более   \n",
       "1       ALLROAD_5_DOORS AUTOMATIC 2.5      автоматическая  2 владельца   \n",
       "2       ALLROAD_5_DOORS AUTOMATIC 3.0      автоматическая          NaN   \n",
       "3       ALLROAD_5_DOORS AUTOMATIC 2.0      автоматическая          NaN   \n",
       "4      ALLROAD_5_DOORS MECHANICAL 2.0        механическая   1 владелец   \n",
       "..                                ...                 ...          ...   \n",
       "256  HATCHBACK_5_DOORS MECHANICAL 0.8        механическая  2 владельца   \n",
       "257    ALLROAD_5_DOORS MECHANICAL 1.5        механическая   1 владелец   \n",
       "258  HATCHBACK_5_DOORS MECHANICAL 0.8        механическая  3 или более   \n",
       "259     ALLROAD_5_DOORS AUTOMATIC 3.5      автоматическая  2 владельца   \n",
       "260     ALLROAD_5_DOORS AUTOMATIC 3.0      автоматическая          NaN   \n",
       "\n",
       "               Владение       ПТС    Привод   Руль           Состояние  \\\n",
       "0                   NaN  Оригинал    задний  Левый  Не требует ремонта   \n",
       "1                   NaN  Оригинал    полный  Левый  Не требует ремонта   \n",
       "2                   NaN       NaN       NaN    NaN                 NaN   \n",
       "3                   NaN       NaN       NaN    NaN                 NaN   \n",
       "4                   NaN  Оригинал  передний  Левый  Не требует ремонта   \n",
       "..                  ...       ...       ...    ...                 ...   \n",
       "256                 NaN  Оригинал  передний  Левый  Не требует ремонта   \n",
       "257  7 лет и 11 месяцев  Оригинал  передний  Левый  Не требует ремонта   \n",
       "258                 NaN  Оригинал  передний  Левый  Не требует ремонта   \n",
       "259                 NaN  Оригинал    полный  Левый  Не требует ремонта   \n",
       "260                 NaN       NaN       NaN    NaN                 NaN   \n",
       "\n",
       "        Таможня         region  \n",
       "0    Растаможен       в Москве  \n",
       "1    Растаможен    в Измайлово  \n",
       "2           NaN            NaN  \n",
       "3           NaN            NaN  \n",
       "4    Растаможен       в Химках  \n",
       "..          ...            ...  \n",
       "256  Растаможен       в Москве  \n",
       "257  Растаможен       в Москве  \n",
       "258  Растаможен   в Челябинске  \n",
       "259  Растаможен       в Москве  \n",
       "260         NaN            NaN  \n",
       "\n",
       "[4763 rows x 35 columns]"
      ]
     },
     "execution_count": 258,
     "metadata": {},
     "output_type": "execute_result"
    }
   ],
   "source": [
    "final_df"
   ]
  },
  {
   "cell_type": "markdown",
   "metadata": {},
   "source": [
    "По какой-то причине пропарсились лишь 4763 страницы из 269000. К сожалению, не могу больше задерживать сдачу проекта, поэтому придется работать с ними"
   ]
  },
  {
   "cell_type": "code",
   "execution_count": 259,
   "metadata": {},
   "outputs": [],
   "source": [
    "test_df = pd.read_csv('test.csv')"
   ]
  },
  {
   "cell_type": "code",
   "execution_count": 260,
   "metadata": {},
   "outputs": [
    {
     "data": {
      "text/html": [
       "<div>\n",
       "<style scoped>\n",
       "    .dataframe tbody tr th:only-of-type {\n",
       "        vertical-align: middle;\n",
       "    }\n",
       "\n",
       "    .dataframe tbody tr th {\n",
       "        vertical-align: top;\n",
       "    }\n",
       "\n",
       "    .dataframe thead th {\n",
       "        text-align: right;\n",
       "    }\n",
       "</style>\n",
       "<table border=\"1\" class=\"dataframe\">\n",
       "  <thead>\n",
       "    <tr style=\"text-align: right;\">\n",
       "      <th></th>\n",
       "      <th>bodyType</th>\n",
       "      <th>brand</th>\n",
       "      <th>car_url</th>\n",
       "      <th>color</th>\n",
       "      <th>complectation_dict</th>\n",
       "      <th>description</th>\n",
       "      <th>engineDisplacement</th>\n",
       "      <th>enginePower</th>\n",
       "      <th>equipment_dict</th>\n",
       "      <th>fuelType</th>\n",
       "      <th>image</th>\n",
       "      <th>mileage</th>\n",
       "      <th>modelDate</th>\n",
       "      <th>model_info</th>\n",
       "      <th>model_name</th>\n",
       "      <th>name</th>\n",
       "      <th>numberOfDoors</th>\n",
       "      <th>parsing_unixtime</th>\n",
       "      <th>priceCurrency</th>\n",
       "      <th>productionDate</th>\n",
       "      <th>sell_id</th>\n",
       "      <th>super_gen</th>\n",
       "      <th>vehicleConfiguration</th>\n",
       "      <th>vehicleTransmission</th>\n",
       "      <th>vendor</th>\n",
       "      <th>Владельцы</th>\n",
       "      <th>Владение</th>\n",
       "      <th>ПТС</th>\n",
       "      <th>Привод</th>\n",
       "      <th>Руль</th>\n",
       "      <th>Состояние</th>\n",
       "      <th>Таможня</th>\n",
       "    </tr>\n",
       "  </thead>\n",
       "  <tbody>\n",
       "    <tr>\n",
       "      <th>0</th>\n",
       "      <td>лифтбек</td>\n",
       "      <td>SKODA</td>\n",
       "      <td>https://auto.ru/cars/used/sale/skoda/octavia/1...</td>\n",
       "      <td>синий</td>\n",
       "      <td>NaN</td>\n",
       "      <td>Все автомобили, представленные в продаже, прох...</td>\n",
       "      <td>1.2 LTR</td>\n",
       "      <td>105 N12</td>\n",
       "      <td>{\"engine-proof\":true,\"tinted-glass\":true,\"airb...</td>\n",
       "      <td>бензин</td>\n",
       "      <td>https://autoru.naydex.net/o9DBXQ270/5ac010hAY0...</td>\n",
       "      <td>74000</td>\n",
       "      <td>2013</td>\n",
       "      <td>{\"code\":\"OCTAVIA\",\"name\":\"Octavia\",\"ru_name\":\"...</td>\n",
       "      <td>OCTAVIA</td>\n",
       "      <td>1.2 AMT (105 л.с.)</td>\n",
       "      <td>5</td>\n",
       "      <td>1603226273</td>\n",
       "      <td>RUB</td>\n",
       "      <td>2014</td>\n",
       "      <td>1100575026</td>\n",
       "      <td>{\"id\":\"10373605\",\"displacement\":1197,\"engine_t...</td>\n",
       "      <td>LIFTBACK ROBOT 1.2</td>\n",
       "      <td>роботизированная</td>\n",
       "      <td>EUROPEAN</td>\n",
       "      <td>3 или более</td>\n",
       "      <td>NaN</td>\n",
       "      <td>Оригинал</td>\n",
       "      <td>передний</td>\n",
       "      <td>Левый</td>\n",
       "      <td>Не требует ремонта</td>\n",
       "      <td>Растаможен</td>\n",
       "    </tr>\n",
       "    <tr>\n",
       "      <th>1</th>\n",
       "      <td>лифтбек</td>\n",
       "      <td>SKODA</td>\n",
       "      <td>https://auto.ru/cars/used/sale/skoda/octavia/1...</td>\n",
       "      <td>чёрный</td>\n",
       "      <td>NaN</td>\n",
       "      <td>ЛОТ: 01217195\\nАвтопрага Север\\nДанный автомоб...</td>\n",
       "      <td>1.6 LTR</td>\n",
       "      <td>110 N12</td>\n",
       "      <td>{\"cruise-control\":true,\"asr\":true,\"esp\":true,\"...</td>\n",
       "      <td>бензин</td>\n",
       "      <td>https://autoru.naydex.net/o9DBXQ270/5ac010hAY0...</td>\n",
       "      <td>60563</td>\n",
       "      <td>2017</td>\n",
       "      <td>{\"code\":\"OCTAVIA\",\"name\":\"Octavia\",\"ru_name\":\"...</td>\n",
       "      <td>OCTAVIA</td>\n",
       "      <td>1.6 MT (110 л.с.)</td>\n",
       "      <td>5</td>\n",
       "      <td>1603226277</td>\n",
       "      <td>RUB</td>\n",
       "      <td>2017</td>\n",
       "      <td>1100549428</td>\n",
       "      <td>{\"id\":\"20913311\",\"displacement\":1598,\"engine_t...</td>\n",
       "      <td>LIFTBACK MECHANICAL 1.6</td>\n",
       "      <td>механическая</td>\n",
       "      <td>EUROPEAN</td>\n",
       "      <td>1 владелец</td>\n",
       "      <td>NaN</td>\n",
       "      <td>Оригинал</td>\n",
       "      <td>передний</td>\n",
       "      <td>Левый</td>\n",
       "      <td>Не требует ремонта</td>\n",
       "      <td>Растаможен</td>\n",
       "    </tr>\n",
       "    <tr>\n",
       "      <th>2</th>\n",
       "      <td>лифтбек</td>\n",
       "      <td>SKODA</td>\n",
       "      <td>https://auto.ru/cars/used/sale/skoda/superb/11...</td>\n",
       "      <td>серый</td>\n",
       "      <td>{\"id\":\"20026336\",\"name\":\"Ambition\",\"available_...</td>\n",
       "      <td>Все автомобили, представленные в продаже, прох...</td>\n",
       "      <td>1.8 LTR</td>\n",
       "      <td>152 N12</td>\n",
       "      <td>{\"cruise-control\":true,\"tinted-glass\":true,\"es...</td>\n",
       "      <td>бензин</td>\n",
       "      <td>https://avatars.mds.yandex.net/get-autoru-vos/...</td>\n",
       "      <td>88000</td>\n",
       "      <td>2013</td>\n",
       "      <td>{\"code\":\"SUPERB\",\"name\":\"Superb\",\"ru_name\":\"Су...</td>\n",
       "      <td>SUPERB</td>\n",
       "      <td>DSG 1.8 AMT (152 л.с.)</td>\n",
       "      <td>5</td>\n",
       "      <td>1603226280</td>\n",
       "      <td>RUB</td>\n",
       "      <td>2014</td>\n",
       "      <td>1100658222</td>\n",
       "      <td>{\"id\":\"20026323\",\"nameplate\":\"DSG\",\"displaceme...</td>\n",
       "      <td>LIFTBACK ROBOT 1.8</td>\n",
       "      <td>роботизированная</td>\n",
       "      <td>EUROPEAN</td>\n",
       "      <td>1 владелец</td>\n",
       "      <td>NaN</td>\n",
       "      <td>Оригинал</td>\n",
       "      <td>передний</td>\n",
       "      <td>Левый</td>\n",
       "      <td>Не требует ремонта</td>\n",
       "      <td>Растаможен</td>\n",
       "    </tr>\n",
       "    <tr>\n",
       "      <th>3</th>\n",
       "      <td>лифтбек</td>\n",
       "      <td>SKODA</td>\n",
       "      <td>https://auto.ru/cars/used/sale/skoda/octavia/1...</td>\n",
       "      <td>коричневый</td>\n",
       "      <td>{\"id\":\"20803582\",\"name\":\"Ambition\",\"available_...</td>\n",
       "      <td>КОМПЛЕКТ ЗИМНЕЙ (ЛЕТНЕЙ) РЕЗИНЫ ПО СЕЗОНУ В ПО...</td>\n",
       "      <td>1.6 LTR</td>\n",
       "      <td>110 N12</td>\n",
       "      <td>{\"cruise-control\":true,\"roller-blind-for-rear-...</td>\n",
       "      <td>бензин</td>\n",
       "      <td>https://autoru.naydex.net/o9DBXQ270/5ac010hAY0...</td>\n",
       "      <td>95000</td>\n",
       "      <td>2013</td>\n",
       "      <td>{\"code\":\"OCTAVIA\",\"name\":\"Octavia\",\"ru_name\":\"...</td>\n",
       "      <td>OCTAVIA</td>\n",
       "      <td>1.6 AT (110 л.с.)</td>\n",
       "      <td>5</td>\n",
       "      <td>1603226284</td>\n",
       "      <td>RUB</td>\n",
       "      <td>2014</td>\n",
       "      <td>1100937408</td>\n",
       "      <td>{\"id\":\"20105521\",\"displacement\":1598,\"engine_t...</td>\n",
       "      <td>LIFTBACK AUTOMATIC 1.6</td>\n",
       "      <td>автоматическая</td>\n",
       "      <td>EUROPEAN</td>\n",
       "      <td>1 владелец</td>\n",
       "      <td>NaN</td>\n",
       "      <td>Оригинал</td>\n",
       "      <td>передний</td>\n",
       "      <td>Левый</td>\n",
       "      <td>Не требует ремонта</td>\n",
       "      <td>Растаможен</td>\n",
       "    </tr>\n",
       "    <tr>\n",
       "      <th>4</th>\n",
       "      <td>лифтбек</td>\n",
       "      <td>SKODA</td>\n",
       "      <td>https://auto.ru/cars/used/sale/skoda/octavia/1...</td>\n",
       "      <td>белый</td>\n",
       "      <td>NaN</td>\n",
       "      <td>ЛОТ: 01220889\\nАвтопрага Север\\n\\nВы можете по...</td>\n",
       "      <td>1.8 LTR</td>\n",
       "      <td>152 N12</td>\n",
       "      <td>{\"cruise-control\":true,\"asr\":true,\"esp\":true,\"...</td>\n",
       "      <td>бензин</td>\n",
       "      <td>https://autoru.naydex.net/o9DBXQ270/5ac010hAY0...</td>\n",
       "      <td>58536</td>\n",
       "      <td>2008</td>\n",
       "      <td>{\"code\":\"OCTAVIA\",\"name\":\"Octavia\",\"ru_name\":\"...</td>\n",
       "      <td>OCTAVIA</td>\n",
       "      <td>1.8 AT (152 л.с.)</td>\n",
       "      <td>5</td>\n",
       "      <td>1603226288</td>\n",
       "      <td>RUB</td>\n",
       "      <td>2012</td>\n",
       "      <td>1101037972</td>\n",
       "      <td>{\"id\":\"4561004\",\"displacement\":1798,\"engine_ty...</td>\n",
       "      <td>LIFTBACK AUTOMATIC 1.8</td>\n",
       "      <td>автоматическая</td>\n",
       "      <td>EUROPEAN</td>\n",
       "      <td>1 владелец</td>\n",
       "      <td>NaN</td>\n",
       "      <td>Оригинал</td>\n",
       "      <td>передний</td>\n",
       "      <td>Левый</td>\n",
       "      <td>Не требует ремонта</td>\n",
       "      <td>Растаможен</td>\n",
       "    </tr>\n",
       "    <tr>\n",
       "      <th>...</th>\n",
       "      <td>...</td>\n",
       "      <td>...</td>\n",
       "      <td>...</td>\n",
       "      <td>...</td>\n",
       "      <td>...</td>\n",
       "      <td>...</td>\n",
       "      <td>...</td>\n",
       "      <td>...</td>\n",
       "      <td>...</td>\n",
       "      <td>...</td>\n",
       "      <td>...</td>\n",
       "      <td>...</td>\n",
       "      <td>...</td>\n",
       "      <td>...</td>\n",
       "      <td>...</td>\n",
       "      <td>...</td>\n",
       "      <td>...</td>\n",
       "      <td>...</td>\n",
       "      <td>...</td>\n",
       "      <td>...</td>\n",
       "      <td>...</td>\n",
       "      <td>...</td>\n",
       "      <td>...</td>\n",
       "      <td>...</td>\n",
       "      <td>...</td>\n",
       "      <td>...</td>\n",
       "      <td>...</td>\n",
       "      <td>...</td>\n",
       "      <td>...</td>\n",
       "      <td>...</td>\n",
       "      <td>...</td>\n",
       "      <td>...</td>\n",
       "    </tr>\n",
       "    <tr>\n",
       "      <th>34681</th>\n",
       "      <td>седан</td>\n",
       "      <td>BMW</td>\n",
       "      <td>https://auto.ru/cars/used/sale/bmw/3er/1101369...</td>\n",
       "      <td>коричневый</td>\n",
       "      <td>NaN</td>\n",
       "      <td>Продается BMW 316i в отличном состоянии. Прода...</td>\n",
       "      <td>1.6 LTR</td>\n",
       "      <td>136 N12</td>\n",
       "      <td>{\"cruise-control\":true,\"asr\":true,\"tinted-glas...</td>\n",
       "      <td>бензин</td>\n",
       "      <td>https://autoru.naydex.net/nwI1K7152/b604fdsYg7...</td>\n",
       "      <td>115000</td>\n",
       "      <td>2011</td>\n",
       "      <td>{\"code\":\"3ER\",\"name\":\"3 серии\",\"ru_name\":\"3 се...</td>\n",
       "      <td>3ER</td>\n",
       "      <td>316i 1.6 AT (136 л.с.)</td>\n",
       "      <td>4</td>\n",
       "      <td>1603707643</td>\n",
       "      <td>RUB</td>\n",
       "      <td>2014</td>\n",
       "      <td>1101369263</td>\n",
       "      <td>{\"id\":\"8546464\",\"name\":\"316\",\"nameplate\":\"316i...</td>\n",
       "      <td>SEDAN AUTOMATIC 1.6</td>\n",
       "      <td>автоматическая</td>\n",
       "      <td>EUROPEAN</td>\n",
       "      <td>3 или более</td>\n",
       "      <td>2 года и 1 месяц</td>\n",
       "      <td>Оригинал</td>\n",
       "      <td>задний</td>\n",
       "      <td>Левый</td>\n",
       "      <td>Не требует ремонта</td>\n",
       "      <td>Растаможен</td>\n",
       "    </tr>\n",
       "    <tr>\n",
       "      <th>34682</th>\n",
       "      <td>седан</td>\n",
       "      <td>BMW</td>\n",
       "      <td>https://auto.ru/cars/used/sale/bmw/5er/1101369...</td>\n",
       "      <td>чёрный</td>\n",
       "      <td>NaN</td>\n",
       "      <td>Продаётся отличный автомобиль.</td>\n",
       "      <td>2.0 LTR</td>\n",
       "      <td>190 N12</td>\n",
       "      <td>NaN</td>\n",
       "      <td>дизель</td>\n",
       "      <td>https://autoru.naydex.net/nwI1K7152/b604fdsYg7...</td>\n",
       "      <td>98000</td>\n",
       "      <td>2016</td>\n",
       "      <td>{\"code\":\"5ER\",\"name\":\"5 серии\",\"ru_name\":\"5 се...</td>\n",
       "      <td>5ER</td>\n",
       "      <td>520d xDrive 2.0d AT (190 л.с.) 4WD</td>\n",
       "      <td>4</td>\n",
       "      <td>1603707651</td>\n",
       "      <td>RUB</td>\n",
       "      <td>2018</td>\n",
       "      <td>1101369581</td>\n",
       "      <td>{\"id\":\"20856402\",\"name\":\"520\",\"nameplate\":\"520...</td>\n",
       "      <td>SEDAN AUTOMATIC 2.0</td>\n",
       "      <td>автоматическая</td>\n",
       "      <td>EUROPEAN</td>\n",
       "      <td>1 владелец</td>\n",
       "      <td>NaN</td>\n",
       "      <td>Оригинал</td>\n",
       "      <td>полный</td>\n",
       "      <td>Левый</td>\n",
       "      <td>Не требует ремонта</td>\n",
       "      <td>Растаможен</td>\n",
       "    </tr>\n",
       "    <tr>\n",
       "      <th>34683</th>\n",
       "      <td>седан</td>\n",
       "      <td>BMW</td>\n",
       "      <td>https://auto.ru/cars/used/sale/bmw/5er/1101364...</td>\n",
       "      <td>серый</td>\n",
       "      <td>NaN</td>\n",
       "      <td>Хорошее состояние</td>\n",
       "      <td>2.5 LTR</td>\n",
       "      <td>170 N12</td>\n",
       "      <td>NaN</td>\n",
       "      <td>бензин</td>\n",
       "      <td>https://avatars.mds.yandex.net/get-autoru-vos/...</td>\n",
       "      <td>360000</td>\n",
       "      <td>1995</td>\n",
       "      <td>{\"code\":\"5ER\",\"name\":\"5 серии\",\"ru_name\":\"5 се...</td>\n",
       "      <td>5ER</td>\n",
       "      <td>523i 2.5 AT (170 л.с.)</td>\n",
       "      <td>4</td>\n",
       "      <td>1603707843</td>\n",
       "      <td>RUB</td>\n",
       "      <td>1997</td>\n",
       "      <td>1101364889</td>\n",
       "      <td>{\"id\":\"6329747\",\"name\":\"523\",\"nameplate\":\"523i...</td>\n",
       "      <td>SEDAN AUTOMATIC 2.5</td>\n",
       "      <td>автоматическая</td>\n",
       "      <td>EUROPEAN</td>\n",
       "      <td>3 или более</td>\n",
       "      <td>NaN</td>\n",
       "      <td>Дубликат</td>\n",
       "      <td>задний</td>\n",
       "      <td>Левый</td>\n",
       "      <td>Не требует ремонта</td>\n",
       "      <td>Растаможен</td>\n",
       "    </tr>\n",
       "    <tr>\n",
       "      <th>34684</th>\n",
       "      <td>внедорожник 5 дв.</td>\n",
       "      <td>BMW</td>\n",
       "      <td>https://auto.ru/cars/used/sale/bmw/x1/11013625...</td>\n",
       "      <td>коричневый</td>\n",
       "      <td>{\"id\":\"6336008\",\"name\":\"xDrive20d Локальная сб...</td>\n",
       "      <td>Автомобиль в идеальном состоянии . Куплен новы...</td>\n",
       "      <td>2.0 LTR</td>\n",
       "      <td>184 N12</td>\n",
       "      <td>{\"engine-proof\":true,\"esp\":true,\"start-stop-fu...</td>\n",
       "      <td>дизель</td>\n",
       "      <td>https://autoru.naydex.net/nwI1K7152/b604fdsYg7...</td>\n",
       "      <td>90500</td>\n",
       "      <td>2012</td>\n",
       "      <td>{\"code\":\"X1\",\"name\":\"X1\",\"ru_name\":\"Х1\",\"morph...</td>\n",
       "      <td>X1</td>\n",
       "      <td>20d 2.0d AT (184 л.с.) 4WD</td>\n",
       "      <td>5</td>\n",
       "      <td>1603707909</td>\n",
       "      <td>RUB</td>\n",
       "      <td>2013</td>\n",
       "      <td>1101362518</td>\n",
       "      <td>{\"id\":\"8247004\",\"name\":\"20d\",\"nameplate\":\"20d\"...</td>\n",
       "      <td>ALLROAD_5_DOORS AUTOMATIC 2.0</td>\n",
       "      <td>автоматическая</td>\n",
       "      <td>EUROPEAN</td>\n",
       "      <td>2 владельца</td>\n",
       "      <td>NaN</td>\n",
       "      <td>Оригинал</td>\n",
       "      <td>полный</td>\n",
       "      <td>Левый</td>\n",
       "      <td>Не требует ремонта</td>\n",
       "      <td>Растаможен</td>\n",
       "    </tr>\n",
       "    <tr>\n",
       "      <th>34685</th>\n",
       "      <td>внедорожник 5 дв.</td>\n",
       "      <td>BMW</td>\n",
       "      <td>https://auto.ru/cars/used/sale/bmw/x5/11012560...</td>\n",
       "      <td>чёрный</td>\n",
       "      <td>NaN</td>\n",
       "      <td>Пробег реальный, состояние отличное! Авторска...</td>\n",
       "      <td>3.0 LTR</td>\n",
       "      <td>235 N12</td>\n",
       "      <td>{\"alloy-wheel-disks\":true,\"navigation\":true,\"p...</td>\n",
       "      <td>дизель</td>\n",
       "      <td>https://avatars.mds.yandex.net/get-autoru-vos/...</td>\n",
       "      <td>240000</td>\n",
       "      <td>2006</td>\n",
       "      <td>{\"code\":\"X5\",\"name\":\"X5\",\"ru_name\":\"Х5\",\"morph...</td>\n",
       "      <td>X5</td>\n",
       "      <td>30d 3.0d AT (235 л.с.) 4WD</td>\n",
       "      <td>5</td>\n",
       "      <td>1603710264</td>\n",
       "      <td>RUB</td>\n",
       "      <td>2008</td>\n",
       "      <td>1101256068</td>\n",
       "      <td>{\"id\":\"20390090\",\"name\":\"30d\",\"nameplate\":\"30d...</td>\n",
       "      <td>ALLROAD_5_DOORS AUTOMATIC 3.0</td>\n",
       "      <td>автоматическая</td>\n",
       "      <td>EUROPEAN</td>\n",
       "      <td>3 или более</td>\n",
       "      <td>6 лет и 1 месяц</td>\n",
       "      <td>Оригинал</td>\n",
       "      <td>полный</td>\n",
       "      <td>Левый</td>\n",
       "      <td>Не требует ремонта</td>\n",
       "      <td>Растаможен</td>\n",
       "    </tr>\n",
       "  </tbody>\n",
       "</table>\n",
       "<p>34686 rows × 32 columns</p>\n",
       "</div>"
      ],
      "text/plain": [
       "                bodyType  brand  \\\n",
       "0                лифтбек  SKODA   \n",
       "1                лифтбек  SKODA   \n",
       "2                лифтбек  SKODA   \n",
       "3                лифтбек  SKODA   \n",
       "4                лифтбек  SKODA   \n",
       "...                  ...    ...   \n",
       "34681              седан    BMW   \n",
       "34682              седан    BMW   \n",
       "34683              седан    BMW   \n",
       "34684  внедорожник 5 дв.    BMW   \n",
       "34685  внедорожник 5 дв.    BMW   \n",
       "\n",
       "                                                 car_url       color  \\\n",
       "0      https://auto.ru/cars/used/sale/skoda/octavia/1...       синий   \n",
       "1      https://auto.ru/cars/used/sale/skoda/octavia/1...      чёрный   \n",
       "2      https://auto.ru/cars/used/sale/skoda/superb/11...       серый   \n",
       "3      https://auto.ru/cars/used/sale/skoda/octavia/1...  коричневый   \n",
       "4      https://auto.ru/cars/used/sale/skoda/octavia/1...       белый   \n",
       "...                                                  ...         ...   \n",
       "34681  https://auto.ru/cars/used/sale/bmw/3er/1101369...  коричневый   \n",
       "34682  https://auto.ru/cars/used/sale/bmw/5er/1101369...      чёрный   \n",
       "34683  https://auto.ru/cars/used/sale/bmw/5er/1101364...       серый   \n",
       "34684  https://auto.ru/cars/used/sale/bmw/x1/11013625...  коричневый   \n",
       "34685  https://auto.ru/cars/used/sale/bmw/x5/11012560...      чёрный   \n",
       "\n",
       "                                      complectation_dict  \\\n",
       "0                                                    NaN   \n",
       "1                                                    NaN   \n",
       "2      {\"id\":\"20026336\",\"name\":\"Ambition\",\"available_...   \n",
       "3      {\"id\":\"20803582\",\"name\":\"Ambition\",\"available_...   \n",
       "4                                                    NaN   \n",
       "...                                                  ...   \n",
       "34681                                                NaN   \n",
       "34682                                                NaN   \n",
       "34683                                                NaN   \n",
       "34684  {\"id\":\"6336008\",\"name\":\"xDrive20d Локальная сб...   \n",
       "34685                                                NaN   \n",
       "\n",
       "                                             description engineDisplacement  \\\n",
       "0      Все автомобили, представленные в продаже, прох...            1.2 LTR   \n",
       "1      ЛОТ: 01217195\\nАвтопрага Север\\nДанный автомоб...            1.6 LTR   \n",
       "2      Все автомобили, представленные в продаже, прох...            1.8 LTR   \n",
       "3      КОМПЛЕКТ ЗИМНЕЙ (ЛЕТНЕЙ) РЕЗИНЫ ПО СЕЗОНУ В ПО...            1.6 LTR   \n",
       "4      ЛОТ: 01220889\\nАвтопрага Север\\n\\nВы можете по...            1.8 LTR   \n",
       "...                                                  ...                ...   \n",
       "34681  Продается BMW 316i в отличном состоянии. Прода...            1.6 LTR   \n",
       "34682                     Продаётся отличный автомобиль.            2.0 LTR   \n",
       "34683                                  Хорошее состояние            2.5 LTR   \n",
       "34684  Автомобиль в идеальном состоянии . Куплен новы...            2.0 LTR   \n",
       "34685   Пробег реальный, состояние отличное! Авторска...            3.0 LTR   \n",
       "\n",
       "      enginePower                                     equipment_dict fuelType  \\\n",
       "0         105 N12  {\"engine-proof\":true,\"tinted-glass\":true,\"airb...   бензин   \n",
       "1         110 N12  {\"cruise-control\":true,\"asr\":true,\"esp\":true,\"...   бензин   \n",
       "2         152 N12  {\"cruise-control\":true,\"tinted-glass\":true,\"es...   бензин   \n",
       "3         110 N12  {\"cruise-control\":true,\"roller-blind-for-rear-...   бензин   \n",
       "4         152 N12  {\"cruise-control\":true,\"asr\":true,\"esp\":true,\"...   бензин   \n",
       "...           ...                                                ...      ...   \n",
       "34681     136 N12  {\"cruise-control\":true,\"asr\":true,\"tinted-glas...   бензин   \n",
       "34682     190 N12                                                NaN   дизель   \n",
       "34683     170 N12                                                NaN   бензин   \n",
       "34684     184 N12  {\"engine-proof\":true,\"esp\":true,\"start-stop-fu...   дизель   \n",
       "34685     235 N12  {\"alloy-wheel-disks\":true,\"navigation\":true,\"p...   дизель   \n",
       "\n",
       "                                                   image  mileage  modelDate  \\\n",
       "0      https://autoru.naydex.net/o9DBXQ270/5ac010hAY0...    74000       2013   \n",
       "1      https://autoru.naydex.net/o9DBXQ270/5ac010hAY0...    60563       2017   \n",
       "2      https://avatars.mds.yandex.net/get-autoru-vos/...    88000       2013   \n",
       "3      https://autoru.naydex.net/o9DBXQ270/5ac010hAY0...    95000       2013   \n",
       "4      https://autoru.naydex.net/o9DBXQ270/5ac010hAY0...    58536       2008   \n",
       "...                                                  ...      ...        ...   \n",
       "34681  https://autoru.naydex.net/nwI1K7152/b604fdsYg7...   115000       2011   \n",
       "34682  https://autoru.naydex.net/nwI1K7152/b604fdsYg7...    98000       2016   \n",
       "34683  https://avatars.mds.yandex.net/get-autoru-vos/...   360000       1995   \n",
       "34684  https://autoru.naydex.net/nwI1K7152/b604fdsYg7...    90500       2012   \n",
       "34685  https://avatars.mds.yandex.net/get-autoru-vos/...   240000       2006   \n",
       "\n",
       "                                              model_info model_name  \\\n",
       "0      {\"code\":\"OCTAVIA\",\"name\":\"Octavia\",\"ru_name\":\"...    OCTAVIA   \n",
       "1      {\"code\":\"OCTAVIA\",\"name\":\"Octavia\",\"ru_name\":\"...    OCTAVIA   \n",
       "2      {\"code\":\"SUPERB\",\"name\":\"Superb\",\"ru_name\":\"Су...     SUPERB   \n",
       "3      {\"code\":\"OCTAVIA\",\"name\":\"Octavia\",\"ru_name\":\"...    OCTAVIA   \n",
       "4      {\"code\":\"OCTAVIA\",\"name\":\"Octavia\",\"ru_name\":\"...    OCTAVIA   \n",
       "...                                                  ...        ...   \n",
       "34681  {\"code\":\"3ER\",\"name\":\"3 серии\",\"ru_name\":\"3 се...        3ER   \n",
       "34682  {\"code\":\"5ER\",\"name\":\"5 серии\",\"ru_name\":\"5 се...        5ER   \n",
       "34683  {\"code\":\"5ER\",\"name\":\"5 серии\",\"ru_name\":\"5 се...        5ER   \n",
       "34684  {\"code\":\"X1\",\"name\":\"X1\",\"ru_name\":\"Х1\",\"morph...         X1   \n",
       "34685  {\"code\":\"X5\",\"name\":\"X5\",\"ru_name\":\"Х5\",\"morph...         X5   \n",
       "\n",
       "                                     name  numberOfDoors  parsing_unixtime  \\\n",
       "0                      1.2 AMT (105 л.с.)              5        1603226273   \n",
       "1                       1.6 MT (110 л.с.)              5        1603226277   \n",
       "2                  DSG 1.8 AMT (152 л.с.)              5        1603226280   \n",
       "3                       1.6 AT (110 л.с.)              5        1603226284   \n",
       "4                       1.8 AT (152 л.с.)              5        1603226288   \n",
       "...                                   ...            ...               ...   \n",
       "34681              316i 1.6 AT (136 л.с.)              4        1603707643   \n",
       "34682  520d xDrive 2.0d AT (190 л.с.) 4WD              4        1603707651   \n",
       "34683              523i 2.5 AT (170 л.с.)              4        1603707843   \n",
       "34684          20d 2.0d AT (184 л.с.) 4WD              5        1603707909   \n",
       "34685          30d 3.0d AT (235 л.с.) 4WD              5        1603710264   \n",
       "\n",
       "      priceCurrency  productionDate     sell_id  \\\n",
       "0               RUB            2014  1100575026   \n",
       "1               RUB            2017  1100549428   \n",
       "2               RUB            2014  1100658222   \n",
       "3               RUB            2014  1100937408   \n",
       "4               RUB            2012  1101037972   \n",
       "...             ...             ...         ...   \n",
       "34681           RUB            2014  1101369263   \n",
       "34682           RUB            2018  1101369581   \n",
       "34683           RUB            1997  1101364889   \n",
       "34684           RUB            2013  1101362518   \n",
       "34685           RUB            2008  1101256068   \n",
       "\n",
       "                                               super_gen  \\\n",
       "0      {\"id\":\"10373605\",\"displacement\":1197,\"engine_t...   \n",
       "1      {\"id\":\"20913311\",\"displacement\":1598,\"engine_t...   \n",
       "2      {\"id\":\"20026323\",\"nameplate\":\"DSG\",\"displaceme...   \n",
       "3      {\"id\":\"20105521\",\"displacement\":1598,\"engine_t...   \n",
       "4      {\"id\":\"4561004\",\"displacement\":1798,\"engine_ty...   \n",
       "...                                                  ...   \n",
       "34681  {\"id\":\"8546464\",\"name\":\"316\",\"nameplate\":\"316i...   \n",
       "34682  {\"id\":\"20856402\",\"name\":\"520\",\"nameplate\":\"520...   \n",
       "34683  {\"id\":\"6329747\",\"name\":\"523\",\"nameplate\":\"523i...   \n",
       "34684  {\"id\":\"8247004\",\"name\":\"20d\",\"nameplate\":\"20d\"...   \n",
       "34685  {\"id\":\"20390090\",\"name\":\"30d\",\"nameplate\":\"30d...   \n",
       "\n",
       "                vehicleConfiguration vehicleTransmission    vendor  \\\n",
       "0                 LIFTBACK ROBOT 1.2    роботизированная  EUROPEAN   \n",
       "1            LIFTBACK MECHANICAL 1.6        механическая  EUROPEAN   \n",
       "2                 LIFTBACK ROBOT 1.8    роботизированная  EUROPEAN   \n",
       "3             LIFTBACK AUTOMATIC 1.6      автоматическая  EUROPEAN   \n",
       "4             LIFTBACK AUTOMATIC 1.8      автоматическая  EUROPEAN   \n",
       "...                              ...                 ...       ...   \n",
       "34681            SEDAN AUTOMATIC 1.6      автоматическая  EUROPEAN   \n",
       "34682            SEDAN AUTOMATIC 2.0      автоматическая  EUROPEAN   \n",
       "34683            SEDAN AUTOMATIC 2.5      автоматическая  EUROPEAN   \n",
       "34684  ALLROAD_5_DOORS AUTOMATIC 2.0      автоматическая  EUROPEAN   \n",
       "34685  ALLROAD_5_DOORS AUTOMATIC 3.0      автоматическая  EUROPEAN   \n",
       "\n",
       "         Владельцы          Владение       ПТС    Привод   Руль  \\\n",
       "0      3 или более               NaN  Оригинал  передний  Левый   \n",
       "1       1 владелец               NaN  Оригинал  передний  Левый   \n",
       "2       1 владелец               NaN  Оригинал  передний  Левый   \n",
       "3       1 владелец               NaN  Оригинал  передний  Левый   \n",
       "4       1 владелец               NaN  Оригинал  передний  Левый   \n",
       "...            ...               ...       ...       ...    ...   \n",
       "34681  3 или более  2 года и 1 месяц  Оригинал    задний  Левый   \n",
       "34682   1 владелец               NaN  Оригинал    полный  Левый   \n",
       "34683  3 или более               NaN  Дубликат    задний  Левый   \n",
       "34684  2 владельца               NaN  Оригинал    полный  Левый   \n",
       "34685  3 или более   6 лет и 1 месяц  Оригинал    полный  Левый   \n",
       "\n",
       "                Состояние     Таможня  \n",
       "0      Не требует ремонта  Растаможен  \n",
       "1      Не требует ремонта  Растаможен  \n",
       "2      Не требует ремонта  Растаможен  \n",
       "3      Не требует ремонта  Растаможен  \n",
       "4      Не требует ремонта  Растаможен  \n",
       "...                   ...         ...  \n",
       "34681  Не требует ремонта  Растаможен  \n",
       "34682  Не требует ремонта  Растаможен  \n",
       "34683  Не требует ремонта  Растаможен  \n",
       "34684  Не требует ремонта  Растаможен  \n",
       "34685  Не требует ремонта  Растаможен  \n",
       "\n",
       "[34686 rows x 32 columns]"
      ]
     },
     "execution_count": 260,
     "metadata": {},
     "output_type": "execute_result"
    }
   ],
   "source": [
    "test_df"
   ]
  },
  {
   "cell_type": "code",
   "execution_count": 261,
   "metadata": {},
   "outputs": [
    {
     "data": {
      "text/plain": [
       "Index(['bodyType', 'brand', 'car_url', 'color', 'complectation_dict',\n",
       "       'description', 'engineDisplacement', 'enginePower', 'equipment_dict',\n",
       "       'fuelType', 'image', 'mileage', 'modelDate', 'model_info', 'model_name',\n",
       "       'name', 'numberOfDoors', 'parsing_unixtime', 'priceCurrency',\n",
       "       'productionDate', 'sell_id', 'super_gen', 'vehicleConfiguration',\n",
       "       'vehicleTransmission', 'vendor', 'Владельцы', 'Владение', 'ПТС',\n",
       "       'Привод', 'Руль', 'Состояние', 'Таможня'],\n",
       "      dtype='object')"
      ]
     },
     "execution_count": 261,
     "metadata": {},
     "output_type": "execute_result"
    }
   ],
   "source": [
    "test_df.columns"
   ]
  },
  {
   "cell_type": "code",
   "execution_count": 262,
   "metadata": {},
   "outputs": [
    {
     "data": {
      "text/plain": [
       "Index(['Unnamed: 0', 'car_url', 'bodyType', 'brand', 'color',\n",
       "       'complectation_dict', 'description', 'engineDisplacement',\n",
       "       'enginePower', 'equipment_dict', 'fuelType', 'image', 'mileage',\n",
       "       'modelDate', 'model_name', 'name', 'numberOfDoors', 'parsing_unixtime',\n",
       "       'price', 'priceCurrency', 'productionDate', 'sell_id', 'views',\n",
       "       'date_added', 'super_gen', 'vehicleConfiguration',\n",
       "       'vehicleTransmission', 'Владельцы', 'Владение', 'ПТС', 'Привод', 'Руль',\n",
       "       'Состояние', 'Таможня', 'region'],\n",
       "      dtype='object')"
      ]
     },
     "execution_count": 262,
     "metadata": {},
     "output_type": "execute_result"
    }
   ],
   "source": [
    "final_df.columns"
   ]
  },
  {
   "cell_type": "markdown",
   "metadata": {},
   "source": [
    "Не нужны:\n",
    "Первая колонка, вторая - ссылка не несет смысла\n",
    "complementation dict и description, image, equipment_dict  невозможно обработать пройденными методами - поэтому отбросим эти колонки\n"
   ]
  },
  {
   "cell_type": "code",
   "execution_count": 263,
   "metadata": {},
   "outputs": [],
   "source": [
    "final_df.drop(['Unnamed: 0','car_url','complectation_dict','description','image','equipment_dict','views','date_added'], axis = 1, inplace = True)"
   ]
  },
  {
   "cell_type": "code",
   "execution_count": 264,
   "metadata": {},
   "outputs": [],
   "source": [
    "test_df.drop(['car_url','complectation_dict','description','image','equipment_dict','model_info'], axis = 1, inplace = True)"
   ]
  },
  {
   "cell_type": "code",
   "execution_count": 265,
   "metadata": {},
   "outputs": [
    {
     "data": {
      "text/plain": [
       "Index(['bodyType', 'brand', 'color', 'engineDisplacement', 'enginePower',\n",
       "       'fuelType', 'mileage', 'modelDate', 'model_name', 'name',\n",
       "       'numberOfDoors', 'parsing_unixtime', 'price', 'priceCurrency',\n",
       "       'productionDate', 'sell_id', 'super_gen', 'vehicleConfiguration',\n",
       "       'vehicleTransmission', 'Владельцы', 'Владение', 'ПТС', 'Привод', 'Руль',\n",
       "       'Состояние', 'Таможня', 'region'],\n",
       "      dtype='object')"
      ]
     },
     "execution_count": 265,
     "metadata": {},
     "output_type": "execute_result"
    }
   ],
   "source": [
    "final_df.columns"
   ]
  },
  {
   "cell_type": "code",
   "execution_count": 266,
   "metadata": {},
   "outputs": [
    {
     "data": {
      "text/plain": [
       "Index(['bodyType', 'brand', 'color', 'engineDisplacement', 'enginePower',\n",
       "       'fuelType', 'mileage', 'modelDate', 'model_name', 'name',\n",
       "       'numberOfDoors', 'parsing_unixtime', 'priceCurrency', 'productionDate',\n",
       "       'sell_id', 'super_gen', 'vehicleConfiguration', 'vehicleTransmission',\n",
       "       'vendor', 'Владельцы', 'Владение', 'ПТС', 'Привод', 'Руль', 'Состояние',\n",
       "       'Таможня'],\n",
       "      dtype='object')"
      ]
     },
     "execution_count": 266,
     "metadata": {},
     "output_type": "execute_result"
    }
   ],
   "source": [
    "test_df.columns"
   ]
  },
  {
   "cell_type": "code",
   "execution_count": 267,
   "metadata": {},
   "outputs": [],
   "source": [
    "test_df['bodyType'] = [str(x).lower().replace('.', '') for x in test_df['bodyType']]\n",
    "final_df['bodyType'] = [str(x).lower() for x in final_df['bodyType']]"
   ]
  },
  {
   "cell_type": "markdown",
   "metadata": {},
   "source": [
    "Уберем LTR из колонки engineDisplacement"
   ]
  },
  {
   "cell_type": "code",
   "execution_count": 268,
   "metadata": {},
   "outputs": [],
   "source": [
    "test_df['engineDisplacement'] = test_df['engineDisplacement'].apply(lambda x: str(x).replace('LTR', ''))\n",
    "final_df['engineDisplacement'] = final_df['engineDisplacement'].apply(lambda x: str(x).replace('LTR', ''))"
   ]
  },
  {
   "cell_type": "markdown",
   "metadata": {},
   "source": [
    "С помощью регулярных выражений достанем цифры из enginePower"
   ]
  },
  {
   "cell_type": "code",
   "execution_count": 269,
   "metadata": {},
   "outputs": [],
   "source": [
    "pattern = re.compile('^(\\d+)\\.*')\n",
    "test_df['enginePower'] = test_df['enginePower'].apply(lambda x: int(str(pattern.findall(x))[2:-2]))\n",
    "final_df['enginePower'] = final_df['enginePower'].apply(lambda x: int(str(pattern.findall(x))[2:-2]))"
   ]
  },
  {
   "cell_type": "markdown",
   "metadata": {},
   "source": [
    "Заполним пропуски нулями"
   ]
  },
  {
   "cell_type": "code",
   "execution_count": 270,
   "metadata": {},
   "outputs": [],
   "source": [
    "final_df['numberOfDoors'] = final_df['numberOfDoors'].fillna(0).astype('int')"
   ]
  },
  {
   "cell_type": "code",
   "execution_count": 271,
   "metadata": {},
   "outputs": [
    {
     "data": {
      "text/plain": [
       "0      RUB\n",
       "1      RUB\n",
       "2      RUB\n",
       "3      RUB\n",
       "4      RUB\n",
       "      ... \n",
       "256    RUB\n",
       "257    RUB\n",
       "258    RUB\n",
       "259    RUB\n",
       "260    RUB\n",
       "Name: priceCurrency, Length: 4763, dtype: object"
      ]
     },
     "execution_count": 271,
     "metadata": {},
     "output_type": "execute_result"
    }
   ],
   "source": [
    "final_df['priceCurrency']"
   ]
  },
  {
   "cell_type": "markdown",
   "metadata": {},
   "source": [
    "Обработаем значения Таможни"
   ]
  },
  {
   "cell_type": "code",
   "execution_count": 272,
   "metadata": {},
   "outputs": [
    {
     "data": {
      "text/plain": [
       "<bound method NDFrame.describe of               bodyType       brand    color engineDisplacement  enginePower  \\\n",
       "0              минивэн    MERCEDES   чёрный               2.1           163   \n",
       "1    внедорожник 5 дв.  LAND_ROVER    серый               2.5           138   \n",
       "2    внедорожник 5 дв.  LAND_ROVER   чёрный               3.0           380   \n",
       "3    внедорожник 5 дв.         BMW   чёрный               2.0           231   \n",
       "4    внедорожник 5 дв.       MAZDA    серый               2.0           150   \n",
       "..                 ...         ...      ...                ...          ...   \n",
       "256      хэтчбек 5 дв.      DAEWOO   чёрный               0.8            52   \n",
       "257  внедорожник 5 дв.      NISSAN  красный               1.5           110   \n",
       "258      хэтчбек 5 дв.      DAEWOO   чёрный               0.8            52   \n",
       "259  внедорожник 5 дв.        FORD   чёрный               3.5           249   \n",
       "260  внедорожник 5 дв.  LAND_ROVER   чёрный               3.0           380   \n",
       "\n",
       "    fuelType     mileage  modelDate model_name  \\\n",
       "0     дизель  132 000 км       2010      Viano   \n",
       "1     дизель  466 000 км       1998  Discovery   \n",
       "2     бензин         NaN       2017        NaN   \n",
       "3     дизель         NaN       2018        NaN   \n",
       "4     бензин   53 000 км       2017       CX-5   \n",
       "..       ...         ...        ...        ...   \n",
       "256   бензин  150 000 км       2000      Matiz   \n",
       "257   дизель  144 000 км       2010       Juke   \n",
       "258   бензин  154 000 км       2000      Matiz   \n",
       "259   бензин  177 000 км       2010   Explorer   \n",
       "260   бензин         NaN       2017        NaN   \n",
       "\n",
       "                                           name  numberOfDoors  \\\n",
       "0    Mercedes-Benz Viano L2 I (W639) Рестайлинг              4   \n",
       "1                       Land Rover Discovery II              5   \n",
       "2          Land Rover Range Rover IV Рестайлинг              5   \n",
       "3                           BMW X5 25d IV (G05)              5   \n",
       "4                                 Mazda CX-5 II              5   \n",
       "..                                          ...            ...   \n",
       "256                   Daewoo Matiz I Рестайлинг              5   \n",
       "257                               Nissan Juke I              5   \n",
       "258                   Daewoo Matiz I Рестайлинг              5   \n",
       "259                             Ford Explorer V              5   \n",
       "260        Land Rover Range Rover IV Рестайлинг              5   \n",
       "\n",
       "     parsing_unixtime       price priceCurrency  productionDate     sell_id  \\\n",
       "0          1633028022   2310000.0           RUB            2013  1105117069   \n",
       "1          1633028024    500000.0           RUB            2001  1105409986   \n",
       "2          1633028025  12760000.0           RUB            2021  1105098754   \n",
       "3          1633058109   8890000.0           RUB            2021  1105436641   \n",
       "4          1633058228   2620000.0           RUB            2019  1105206979   \n",
       "..                ...         ...           ...             ...         ...   \n",
       "256        1633152004    150000.0           RUB            2013  1105172797   \n",
       "257        1633151275    970000.0           RUB            2013  1105447617   \n",
       "258        1633151967         NaN           RUB            2010  1105447628   \n",
       "259        1633151984   1800000.0           RUB            2014  1105275500   \n",
       "260        1633151986  12760000.0           RUB            2021  1105098754   \n",
       "\n",
       "                                             super_gen  \\\n",
       "0    {'sale-data-attributes': {'asciiCat': 'cars', ...   \n",
       "1    {'sale-data-attributes': {'asciiCat': 'cars', ...   \n",
       "2    {'sale-data-attributes': {'asciiCat': 'cars', ...   \n",
       "3    {'sale-data-attributes': {'asciiCat': 'cars', ...   \n",
       "4    {'sale-data-attributes': {'asciiCat': 'cars', ...   \n",
       "..                                                 ...   \n",
       "256  {'sale-data-attributes': {'asciiCat': 'cars', ...   \n",
       "257  {'sale-data-attributes': {'asciiCat': 'cars', ...   \n",
       "258  {'sale-data-attributes': {'asciiCat': 'cars', ...   \n",
       "259  {'sale-data-attributes': {'asciiCat': 'cars', ...   \n",
       "260  {'sale-data-attributes': {'asciiCat': 'cars', ...   \n",
       "\n",
       "                 vehicleConfiguration vehicleTransmission    Владельцы  \\\n",
       "0              MINIVAN MECHANICAL 2.1        механическая  3 или более   \n",
       "1       ALLROAD_5_DOORS AUTOMATIC 2.5      автоматическая  2 владельца   \n",
       "2       ALLROAD_5_DOORS AUTOMATIC 3.0      автоматическая          NaN   \n",
       "3       ALLROAD_5_DOORS AUTOMATIC 2.0      автоматическая          NaN   \n",
       "4      ALLROAD_5_DOORS MECHANICAL 2.0        механическая   1 владелец   \n",
       "..                                ...                 ...          ...   \n",
       "256  HATCHBACK_5_DOORS MECHANICAL 0.8        механическая  2 владельца   \n",
       "257    ALLROAD_5_DOORS MECHANICAL 1.5        механическая   1 владелец   \n",
       "258  HATCHBACK_5_DOORS MECHANICAL 0.8        механическая  3 или более   \n",
       "259     ALLROAD_5_DOORS AUTOMATIC 3.5      автоматическая  2 владельца   \n",
       "260     ALLROAD_5_DOORS AUTOMATIC 3.0      автоматическая          NaN   \n",
       "\n",
       "               Владение       ПТС    Привод   Руль           Состояние  \\\n",
       "0                   NaN  Оригинал    задний  Левый  Не требует ремонта   \n",
       "1                   NaN  Оригинал    полный  Левый  Не требует ремонта   \n",
       "2                   NaN       NaN       NaN    NaN                 NaN   \n",
       "3                   NaN       NaN       NaN    NaN                 NaN   \n",
       "4                   NaN  Оригинал  передний  Левый  Не требует ремонта   \n",
       "..                  ...       ...       ...    ...                 ...   \n",
       "256                 NaN  Оригинал  передний  Левый  Не требует ремонта   \n",
       "257  7 лет и 11 месяцев  Оригинал  передний  Левый  Не требует ремонта   \n",
       "258                 NaN  Оригинал  передний  Левый  Не требует ремонта   \n",
       "259                 NaN  Оригинал    полный  Левый  Не требует ремонта   \n",
       "260                 NaN       NaN       NaN    NaN                 NaN   \n",
       "\n",
       "        Таможня         region  \n",
       "0    Растаможен       в Москве  \n",
       "1    Растаможен    в Измайлово  \n",
       "2           NaN            NaN  \n",
       "3           NaN            NaN  \n",
       "4    Растаможен       в Химках  \n",
       "..          ...            ...  \n",
       "256  Растаможен       в Москве  \n",
       "257  Растаможен       в Москве  \n",
       "258  Растаможен   в Челябинске  \n",
       "259  Растаможен       в Москве  \n",
       "260         NaN            NaN  \n",
       "\n",
       "[4763 rows x 27 columns]>"
      ]
     },
     "execution_count": 272,
     "metadata": {},
     "output_type": "execute_result"
    }
   ],
   "source": [
    "final_df.describe"
   ]
  },
  {
   "cell_type": "code",
   "execution_count": 273,
   "metadata": {},
   "outputs": [],
   "source": [
    "final_df['Таможня'] = final_df['Таможня'].apply(lambda x: True if x == 'Растаможен' else False)\n",
    "test_df['Таможня'] = test_df['Таможня'].apply(lambda x: True if x == 'Растаможен' else False)"
   ]
  },
  {
   "cell_type": "code",
   "execution_count": 274,
   "metadata": {},
   "outputs": [
    {
     "data": {
      "text/plain": [
       "True     3497\n",
       "False    1266\n",
       "Name: Таможня, dtype: int64"
      ]
     },
     "execution_count": 274,
     "metadata": {},
     "output_type": "execute_result"
    }
   ],
   "source": [
    "final_df['Таможня'].value_counts()"
   ]
  },
  {
   "cell_type": "code",
   "execution_count": 275,
   "metadata": {},
   "outputs": [
    {
     "data": {
      "text/plain": [
       "True    34686\n",
       "Name: Таможня, dtype: int64"
      ]
     },
     "execution_count": 275,
     "metadata": {},
     "output_type": "execute_result"
    }
   ],
   "source": [
    "test_df['Таможня'].value_counts()"
   ]
  },
  {
   "cell_type": "markdown",
   "metadata": {},
   "source": [
    "Обработаем количество владельцев"
   ]
  },
  {
   "cell_type": "code",
   "execution_count": 276,
   "metadata": {},
   "outputs": [],
   "source": [
    "final_df['Владельцы'] = final_df['Владельцы'].apply(lambda x: 1.0 if x == '1 владелец' else x)\n",
    "final_df['Владельцы'] = final_df['Владельцы'].apply(lambda x: 2.0 if x == '2 владельца' else x)\n",
    "final_df['Владельцы'] = final_df['Владельцы'].apply(lambda x: 3.0 if x == '3 или более' else x)\n",
    "test_df['Владельцы'] = test_df['Владельцы'].apply(lambda x: 1.0 if x == '1 владелец' else x)\n",
    "test_df['Владельцы'] = test_df['Владельцы'].apply(lambda x: 2.0 if x == '2 владельца' else x)\n",
    "test_df['Владельцы'] = test_df['Владельцы'].apply(lambda x: 3.0 if x == '3 или более' else x)"
   ]
  },
  {
   "cell_type": "markdown",
   "metadata": {},
   "source": [
    "В продолжительности владения очень много пропусков, поэтому просто удалим этот столбец"
   ]
  },
  {
   "cell_type": "code",
   "execution_count": 277,
   "metadata": {},
   "outputs": [],
   "source": [
    "final_df.drop('Владение', axis = 1, inplace = True)\n",
    "test_df.drop('Владение', axis = 1, inplace = True)"
   ]
  },
  {
   "cell_type": "code",
   "execution_count": 278,
   "metadata": {},
   "outputs": [],
   "source": [
    "final_df.dropna(subset=['price'], inplace=True)"
   ]
  },
  {
   "cell_type": "markdown",
   "metadata": {},
   "source": [
    "Для конкретной обработки категориальных переменных определим два датасета в один"
   ]
  },
  {
   "cell_type": "code",
   "execution_count": 279,
   "metadata": {},
   "outputs": [],
   "source": [
    "final_df['sample'] = 1\n",
    "test_df['sample'] = 0\n",
    "\n",
    "data = test_df.append(final_df, sort=False).reset_index(drop=True)"
   ]
  },
  {
   "cell_type": "code",
   "execution_count": 280,
   "metadata": {},
   "outputs": [
    {
     "data": {
      "text/plain": [
       "0             74000\n",
       "1             60563\n",
       "2             88000\n",
       "3             95000\n",
       "4             58536\n",
       "            ...    \n",
       "38729     40 000 км\n",
       "38730    150 000 км\n",
       "38731    144 000 км\n",
       "38732    177 000 км\n",
       "38733           NaN\n",
       "Name: mileage, Length: 38734, dtype: object"
      ]
     },
     "execution_count": 280,
     "metadata": {},
     "output_type": "execute_result"
    }
   ],
   "source": [
    "data['mileage']"
   ]
  },
  {
   "cell_type": "code",
   "execution_count": 281,
   "metadata": {},
   "outputs": [
    {
     "data": {
      "text/plain": [
       "bodyType                 object\n",
       "brand                    object\n",
       "color                    object\n",
       "engineDisplacement       object\n",
       "enginePower               int64\n",
       "fuelType                 object\n",
       "mileage                  object\n",
       "modelDate                 int64\n",
       "model_name               object\n",
       "name                     object\n",
       "numberOfDoors             int32\n",
       "parsing_unixtime          int64\n",
       "price                   float64\n",
       "priceCurrency            object\n",
       "productionDate            int64\n",
       "sell_id                   int64\n",
       "super_gen                object\n",
       "vehicleConfiguration     object\n",
       "vehicleTransmission      object\n",
       "Владельцы               float64\n",
       "ПТС                      object\n",
       "Привод                   object\n",
       "Руль                     object\n",
       "Состояние                object\n",
       "Таможня                    bool\n",
       "region                   object\n",
       "sample                    int64\n",
       "dtype: object"
      ]
     },
     "execution_count": 281,
     "metadata": {},
     "output_type": "execute_result"
    }
   ],
   "source": [
    "final_df.dtypes"
   ]
  },
  {
   "cell_type": "code",
   "execution_count": 282,
   "metadata": {},
   "outputs": [],
   "source": [
    "data.drop(['name','super_gen','vehicleConfiguration','priceCurrency','region','vendor'], axis = 1, inplace = True)"
   ]
  },
  {
   "cell_type": "code",
   "execution_count": 285,
   "metadata": {},
   "outputs": [],
   "source": [
    "data['mileage']=data['mileage'].apply(lambda x: str(x).replace(' ',''))\n",
    "#pattern = re.compile('/^\\d+$/')\n",
    "#data['mileage']=data['mileage'].apply(lambda x: str(pattern.findall(str(x))))\n",
    "data['mileage']=data['mileage'].apply(lambda x: 0 if str(x) == 'nan' or str(x)=='NaN' else x)"
   ]
  },
  {
   "cell_type": "code",
   "execution_count": 286,
   "metadata": {},
   "outputs": [],
   "source": [
    "data['mileage']=data['mileage'].apply(lambda x:float(x[:-2]) if x[-2:] == 'км' else float(x))"
   ]
  },
  {
   "cell_type": "code",
   "execution_count": 287,
   "metadata": {},
   "outputs": [
    {
     "data": {
      "image/png": "[encoded data removed]",
      "text/plain": [
       "<Figure size 1440x1440 with 2 Axes>"
      ]
     },
     "metadata": {
      "needs_background": "light"
     },
     "output_type": "display_data"
    }
   ],
   "source": [
    "fig, ax = plt.subplots(1, 1, figsize=(20, 20))\n",
    "ax = sns.heatmap(data.corr(), annot=True, cmap='plasma')"
   ]
  },
  {
   "cell_type": "markdown",
   "metadata": {},
   "source": [
    "Нормализируем столбцы"
   ]
  },
  {
   "cell_type": "code",
   "execution_count": 288,
   "metadata": {},
   "outputs": [],
   "source": [
    "cat_col = ['brand', 'color', 'fuelType', 'model_name', 'vehicleTransmission', 'Владельцы', 'ПТС', 'Привод', 'Руль', 'bodyType','Состояние','engineDisplacement']\n",
    "bin_col = ['sample']\n",
    "num_col = ['enginePower', 'mileage', 'modelDate', 'numberOfDoors', 'productionDate']"
   ]
  },
  {
   "cell_type": "code",
   "execution_count": 289,
   "metadata": {},
   "outputs": [
    {
     "data": {
      "text/html": [
       "<div>\n",
       "<style scoped>\n",
       "    .dataframe tbody tr th:only-of-type {\n",
       "        vertical-align: middle;\n",
       "    }\n",
       "\n",
       "    .dataframe tbody tr th {\n",
       "        vertical-align: top;\n",
       "    }\n",
       "\n",
       "    .dataframe thead th {\n",
       "        text-align: right;\n",
       "    }\n",
       "</style>\n",
       "<table border=\"1\" class=\"dataframe\">\n",
       "  <thead>\n",
       "    <tr style=\"text-align: right;\">\n",
       "      <th></th>\n",
       "      <th>bodyType</th>\n",
       "      <th>brand</th>\n",
       "      <th>color</th>\n",
       "      <th>engineDisplacement</th>\n",
       "      <th>enginePower</th>\n",
       "      <th>fuelType</th>\n",
       "      <th>mileage</th>\n",
       "      <th>modelDate</th>\n",
       "      <th>model_name</th>\n",
       "      <th>numberOfDoors</th>\n",
       "      <th>parsing_unixtime</th>\n",
       "      <th>productionDate</th>\n",
       "      <th>sell_id</th>\n",
       "      <th>vehicleTransmission</th>\n",
       "      <th>Владельцы</th>\n",
       "      <th>ПТС</th>\n",
       "      <th>Привод</th>\n",
       "      <th>Руль</th>\n",
       "      <th>Состояние</th>\n",
       "      <th>Таможня</th>\n",
       "      <th>sample</th>\n",
       "      <th>price</th>\n",
       "    </tr>\n",
       "  </thead>\n",
       "  <tbody>\n",
       "    <tr>\n",
       "      <th>0</th>\n",
       "      <td>10</td>\n",
       "      <td>49</td>\n",
       "      <td>13</td>\n",
       "      <td>6</td>\n",
       "      <td>105</td>\n",
       "      <td>0</td>\n",
       "      <td>74000.0</td>\n",
       "      <td>2013</td>\n",
       "      <td>563</td>\n",
       "      <td>5</td>\n",
       "      <td>1603226273</td>\n",
       "      <td>2014</td>\n",
       "      <td>1100575026</td>\n",
       "      <td>3</td>\n",
       "      <td>2</td>\n",
       "      <td>1</td>\n",
       "      <td>1</td>\n",
       "      <td>0</td>\n",
       "      <td>0</td>\n",
       "      <td>True</td>\n",
       "      <td>0</td>\n",
       "      <td>NaN</td>\n",
       "    </tr>\n",
       "  </tbody>\n",
       "</table>\n",
       "</div>"
      ],
      "text/plain": [
       "   bodyType  brand  color  engineDisplacement  enginePower  fuelType  mileage  \\\n",
       "0        10     49     13                   6          105         0  74000.0   \n",
       "\n",
       "   modelDate  model_name  numberOfDoors  parsing_unixtime  productionDate  \\\n",
       "0       2013         563              5        1603226273            2014   \n",
       "\n",
       "      sell_id  vehicleTransmission  Владельцы  ПТС  Привод  Руль  Состояние  \\\n",
       "0  1100575026                    3          2    1       1     0          0   \n",
       "\n",
       "   Таможня  sample  price  \n",
       "0     True       0    NaN  "
      ]
     },
     "metadata": {},
     "output_type": "display_data"
    }
   ],
   "source": [
    "for column in cat_col:\n",
    "    data[column] = data[column].astype('category').cat.codes\n",
    "display(data.head(1))"
   ]
  },
  {
   "cell_type": "code",
   "execution_count": 291,
   "metadata": {},
   "outputs": [],
   "source": [
    "scaler = MinMaxScaler()\n",
    "data[cat_col] = scaler.fit_transform(data[cat_col])"
   ]
  },
  {
   "cell_type": "code",
   "execution_count": 296,
   "metadata": {},
   "outputs": [
    {
     "data": {
      "image/png": "[encoded data removed]",
      "text/plain": [
       "<Figure size 1440x1440 with 2 Axes>"
      ]
     },
     "metadata": {
      "needs_background": "light"
     },
     "output_type": "display_data"
    }
   ],
   "source": [
    "fig, ax = plt.subplots(1, 1, figsize=(20, 20))\n",
    "ax = sns.heatmap(data.corr(), annot=True, cmap='plasma')"
   ]
  },
  {
   "cell_type": "code",
   "execution_count": 297,
   "metadata": {},
   "outputs": [
    {
     "data": {
      "text/plain": [
       "bodyType               float64\n",
       "brand                  float64\n",
       "color                  float64\n",
       "engineDisplacement     float64\n",
       "enginePower              int64\n",
       "fuelType               float64\n",
       "mileage                float64\n",
       "modelDate                int64\n",
       "model_name             float64\n",
       "numberOfDoors            int64\n",
       "productionDate           int64\n",
       "vehicleTransmission    float64\n",
       "Владельцы              float64\n",
       "ПТС                    float64\n",
       "Привод                 float64\n",
       "Руль                   float64\n",
       "Состояние              float64\n",
       "sample                   int64\n",
       "price                  float64\n",
       "dtype: object"
      ]
     },
     "execution_count": 297,
     "metadata": {},
     "output_type": "execute_result"
    }
   ],
   "source": [
    "data.dtypes"
   ]
  },
  {
   "cell_type": "code",
   "execution_count": 298,
   "metadata": {},
   "outputs": [
    {
     "data": {
      "text/plain": [
       "bodyType                   0\n",
       "brand                      0\n",
       "color                      0\n",
       "engineDisplacement         0\n",
       "enginePower                0\n",
       "fuelType                   0\n",
       "mileage                    0\n",
       "modelDate                  0\n",
       "model_name                 0\n",
       "numberOfDoors              0\n",
       "productionDate             0\n",
       "vehicleTransmission        0\n",
       "Владельцы                  0\n",
       "ПТС                        0\n",
       "Привод                     0\n",
       "Руль                       0\n",
       "Состояние                  0\n",
       "sample                     0\n",
       "price                  34686\n",
       "dtype: int64"
      ]
     },
     "execution_count": 298,
     "metadata": {},
     "output_type": "execute_result"
    }
   ],
   "source": [
    "data.isna().sum(axis = 0)"
   ]
  },
  {
   "cell_type": "markdown",
   "metadata": {},
   "source": [
    "Уберем столбцы с большой корреляцией"
   ]
  },
  {
   "cell_type": "code",
   "execution_count": 299,
   "metadata": {},
   "outputs": [
    {
     "ename": "KeyError",
     "evalue": "\"['parsing_unixtime' 'sell_id' 'Таможня'] not found in axis\"",
     "output_type": "error",
     "traceback": [
      "\u001b[1;31m---------------------------------------------------------------------------\u001b[0m",
      "\u001b[1;31mKeyError\u001b[0m                                  Traceback (most recent call last)",
      "\u001b[1;32m<ipython-input-299-7fbead221de2>\u001b[0m in \u001b[0;36m<module>\u001b[1;34m\u001b[0m\n\u001b[1;32m----> 1\u001b[1;33m \u001b[0mdata\u001b[0m\u001b[1;33m.\u001b[0m\u001b[0mdrop\u001b[0m\u001b[1;33m(\u001b[0m\u001b[1;33m[\u001b[0m\u001b[1;34m'parsing_unixtime'\u001b[0m\u001b[1;33m,\u001b[0m\u001b[1;34m'sell_id'\u001b[0m\u001b[1;33m,\u001b[0m\u001b[1;34m'Таможня'\u001b[0m\u001b[1;33m]\u001b[0m\u001b[1;33m,\u001b[0m \u001b[0maxis\u001b[0m \u001b[1;33m=\u001b[0m \u001b[1;36m1\u001b[0m\u001b[1;33m,\u001b[0m \u001b[0minplace\u001b[0m \u001b[1;33m=\u001b[0m \u001b[1;32mTrue\u001b[0m\u001b[1;33m)\u001b[0m\u001b[1;33m\u001b[0m\u001b[1;33m\u001b[0m\u001b[0m\n\u001b[0m",
      "\u001b[1;32m~\\anaconda3\\lib\\site-packages\\pandas\\core\\frame.py\u001b[0m in \u001b[0;36mdrop\u001b[1;34m(self, labels, axis, index, columns, level, inplace, errors)\u001b[0m\n\u001b[0;32m   3988\u001b[0m                 \u001b[0mweight\u001b[0m  \u001b[1;36m1.0\u001b[0m     \u001b[1;36m0.8\u001b[0m\u001b[1;33m\u001b[0m\u001b[1;33m\u001b[0m\u001b[0m\n\u001b[0;32m   3989\u001b[0m         \"\"\"\n\u001b[1;32m-> 3990\u001b[1;33m         return super().drop(\n\u001b[0m\u001b[0;32m   3991\u001b[0m             \u001b[0mlabels\u001b[0m\u001b[1;33m=\u001b[0m\u001b[0mlabels\u001b[0m\u001b[1;33m,\u001b[0m\u001b[1;33m\u001b[0m\u001b[1;33m\u001b[0m\u001b[0m\n\u001b[0;32m   3992\u001b[0m             \u001b[0maxis\u001b[0m\u001b[1;33m=\u001b[0m\u001b[0maxis\u001b[0m\u001b[1;33m,\u001b[0m\u001b[1;33m\u001b[0m\u001b[1;33m\u001b[0m\u001b[0m\n",
      "\u001b[1;32m~\\anaconda3\\lib\\site-packages\\pandas\\core\\generic.py\u001b[0m in \u001b[0;36mdrop\u001b[1;34m(self, labels, axis, index, columns, level, inplace, errors)\u001b[0m\n\u001b[0;32m   3934\u001b[0m         \u001b[1;32mfor\u001b[0m \u001b[0maxis\u001b[0m\u001b[1;33m,\u001b[0m \u001b[0mlabels\u001b[0m \u001b[1;32min\u001b[0m \u001b[0maxes\u001b[0m\u001b[1;33m.\u001b[0m\u001b[0mitems\u001b[0m\u001b[1;33m(\u001b[0m\u001b[1;33m)\u001b[0m\u001b[1;33m:\u001b[0m\u001b[1;33m\u001b[0m\u001b[1;33m\u001b[0m\u001b[0m\n\u001b[0;32m   3935\u001b[0m             \u001b[1;32mif\u001b[0m \u001b[0mlabels\u001b[0m \u001b[1;32mis\u001b[0m \u001b[1;32mnot\u001b[0m \u001b[1;32mNone\u001b[0m\u001b[1;33m:\u001b[0m\u001b[1;33m\u001b[0m\u001b[1;33m\u001b[0m\u001b[0m\n\u001b[1;32m-> 3936\u001b[1;33m                 \u001b[0mobj\u001b[0m \u001b[1;33m=\u001b[0m \u001b[0mobj\u001b[0m\u001b[1;33m.\u001b[0m\u001b[0m_drop_axis\u001b[0m\u001b[1;33m(\u001b[0m\u001b[0mlabels\u001b[0m\u001b[1;33m,\u001b[0m \u001b[0maxis\u001b[0m\u001b[1;33m,\u001b[0m \u001b[0mlevel\u001b[0m\u001b[1;33m=\u001b[0m\u001b[0mlevel\u001b[0m\u001b[1;33m,\u001b[0m \u001b[0merrors\u001b[0m\u001b[1;33m=\u001b[0m\u001b[0merrors\u001b[0m\u001b[1;33m)\u001b[0m\u001b[1;33m\u001b[0m\u001b[1;33m\u001b[0m\u001b[0m\n\u001b[0m\u001b[0;32m   3937\u001b[0m \u001b[1;33m\u001b[0m\u001b[0m\n\u001b[0;32m   3938\u001b[0m         \u001b[1;32mif\u001b[0m \u001b[0minplace\u001b[0m\u001b[1;33m:\u001b[0m\u001b[1;33m\u001b[0m\u001b[1;33m\u001b[0m\u001b[0m\n",
      "\u001b[1;32m~\\anaconda3\\lib\\site-packages\\pandas\\core\\generic.py\u001b[0m in \u001b[0;36m_drop_axis\u001b[1;34m(self, labels, axis, level, errors)\u001b[0m\n\u001b[0;32m   3968\u001b[0m                 \u001b[0mnew_axis\u001b[0m \u001b[1;33m=\u001b[0m \u001b[0maxis\u001b[0m\u001b[1;33m.\u001b[0m\u001b[0mdrop\u001b[0m\u001b[1;33m(\u001b[0m\u001b[0mlabels\u001b[0m\u001b[1;33m,\u001b[0m \u001b[0mlevel\u001b[0m\u001b[1;33m=\u001b[0m\u001b[0mlevel\u001b[0m\u001b[1;33m,\u001b[0m \u001b[0merrors\u001b[0m\u001b[1;33m=\u001b[0m\u001b[0merrors\u001b[0m\u001b[1;33m)\u001b[0m\u001b[1;33m\u001b[0m\u001b[1;33m\u001b[0m\u001b[0m\n\u001b[0;32m   3969\u001b[0m             \u001b[1;32melse\u001b[0m\u001b[1;33m:\u001b[0m\u001b[1;33m\u001b[0m\u001b[1;33m\u001b[0m\u001b[0m\n\u001b[1;32m-> 3970\u001b[1;33m                 \u001b[0mnew_axis\u001b[0m \u001b[1;33m=\u001b[0m \u001b[0maxis\u001b[0m\u001b[1;33m.\u001b[0m\u001b[0mdrop\u001b[0m\u001b[1;33m(\u001b[0m\u001b[0mlabels\u001b[0m\u001b[1;33m,\u001b[0m \u001b[0merrors\u001b[0m\u001b[1;33m=\u001b[0m\u001b[0merrors\u001b[0m\u001b[1;33m)\u001b[0m\u001b[1;33m\u001b[0m\u001b[1;33m\u001b[0m\u001b[0m\n\u001b[0m\u001b[0;32m   3971\u001b[0m             \u001b[0mresult\u001b[0m \u001b[1;33m=\u001b[0m \u001b[0mself\u001b[0m\u001b[1;33m.\u001b[0m\u001b[0mreindex\u001b[0m\u001b[1;33m(\u001b[0m\u001b[1;33m**\u001b[0m\u001b[1;33m{\u001b[0m\u001b[0maxis_name\u001b[0m\u001b[1;33m:\u001b[0m \u001b[0mnew_axis\u001b[0m\u001b[1;33m}\u001b[0m\u001b[1;33m)\u001b[0m\u001b[1;33m\u001b[0m\u001b[1;33m\u001b[0m\u001b[0m\n\u001b[0;32m   3972\u001b[0m \u001b[1;33m\u001b[0m\u001b[0m\n",
      "\u001b[1;32m~\\anaconda3\\lib\\site-packages\\pandas\\core\\indexes\\base.py\u001b[0m in \u001b[0;36mdrop\u001b[1;34m(self, labels, errors)\u001b[0m\n\u001b[0;32m   5016\u001b[0m         \u001b[1;32mif\u001b[0m \u001b[0mmask\u001b[0m\u001b[1;33m.\u001b[0m\u001b[0many\u001b[0m\u001b[1;33m(\u001b[0m\u001b[1;33m)\u001b[0m\u001b[1;33m:\u001b[0m\u001b[1;33m\u001b[0m\u001b[1;33m\u001b[0m\u001b[0m\n\u001b[0;32m   5017\u001b[0m             \u001b[1;32mif\u001b[0m \u001b[0merrors\u001b[0m \u001b[1;33m!=\u001b[0m \u001b[1;34m\"ignore\"\u001b[0m\u001b[1;33m:\u001b[0m\u001b[1;33m\u001b[0m\u001b[1;33m\u001b[0m\u001b[0m\n\u001b[1;32m-> 5018\u001b[1;33m                 \u001b[1;32mraise\u001b[0m \u001b[0mKeyError\u001b[0m\u001b[1;33m(\u001b[0m\u001b[1;34mf\"{labels[mask]} not found in axis\"\u001b[0m\u001b[1;33m)\u001b[0m\u001b[1;33m\u001b[0m\u001b[1;33m\u001b[0m\u001b[0m\n\u001b[0m\u001b[0;32m   5019\u001b[0m             \u001b[0mindexer\u001b[0m \u001b[1;33m=\u001b[0m \u001b[0mindexer\u001b[0m\u001b[1;33m[\u001b[0m\u001b[1;33m~\u001b[0m\u001b[0mmask\u001b[0m\u001b[1;33m]\u001b[0m\u001b[1;33m\u001b[0m\u001b[1;33m\u001b[0m\u001b[0m\n\u001b[0;32m   5020\u001b[0m         \u001b[1;32mreturn\u001b[0m \u001b[0mself\u001b[0m\u001b[1;33m.\u001b[0m\u001b[0mdelete\u001b[0m\u001b[1;33m(\u001b[0m\u001b[0mindexer\u001b[0m\u001b[1;33m)\u001b[0m\u001b[1;33m\u001b[0m\u001b[1;33m\u001b[0m\u001b[0m\n",
      "\u001b[1;31mKeyError\u001b[0m: \"['parsing_unixtime' 'sell_id' 'Таможня'] not found in axis\""
     ]
    }
   ],
   "source": [
    "data.drop(['parsing_unixtime','sell_id','Таможня'], axis = 1, inplace = True)"
   ]
  },
  {
   "cell_type": "code",
   "execution_count": 300,
   "metadata": {},
   "outputs": [],
   "source": [
    "for column in data.columns:\n",
    "    data[column] = data[column].fillna(0)"
   ]
  },
  {
   "cell_type": "markdown",
   "metadata": {},
   "source": [
    "Разделим датасет"
   ]
  },
  {
   "cell_type": "code",
   "execution_count": 301,
   "metadata": {},
   "outputs": [
    {
     "data": {
      "text/plain": [
       "Index(['bodyType', 'brand', 'color', 'engineDisplacement', 'enginePower',\n",
       "       'fuelType', 'mileage', 'modelDate', 'model_name', 'numberOfDoors',\n",
       "       'productionDate', 'vehicleTransmission', 'Владельцы', 'ПТС', 'Привод',\n",
       "       'Руль', 'Состояние', 'sample', 'price'],\n",
       "      dtype='object')"
      ]
     },
     "execution_count": 301,
     "metadata": {},
     "output_type": "execute_result"
    }
   ],
   "source": [
    "data.columns"
   ]
  },
  {
   "cell_type": "code",
   "execution_count": 302,
   "metadata": {},
   "outputs": [],
   "source": [
    "X = data.query('sample == 1').drop(['sample', 'price'], axis=1)\n",
    "y = data.query('sample == 1')['price'] "
   ]
  },
  {
   "cell_type": "code",
   "execution_count": 303,
   "metadata": {},
   "outputs": [],
   "source": [
    "X_train, X_test, y_train, y_test = train_test_split(X, y, test_size=0.2, shuffle=True, random_state=42)"
   ]
  },
  {
   "cell_type": "code",
   "execution_count": 304,
   "metadata": {},
   "outputs": [
    {
     "data": {
      "text/plain": [
       "34686     2310000.0\n",
       "34687      500000.0\n",
       "34688    12760000.0\n",
       "34689     8890000.0\n",
       "34690     2620000.0\n",
       "            ...    \n",
       "38729     2060000.0\n",
       "38730      150000.0\n",
       "38731      970000.0\n",
       "38732     1800000.0\n",
       "38733    12760000.0\n",
       "Name: price, Length: 4048, dtype: float64"
      ]
     },
     "execution_count": 304,
     "metadata": {},
     "output_type": "execute_result"
    }
   ],
   "source": [
    "y"
   ]
  },
  {
   "cell_type": "code",
   "execution_count": 305,
   "metadata": {},
   "outputs": [
    {
     "data": {
      "text/html": [
       "<div>\n",
       "<style scoped>\n",
       "    .dataframe tbody tr th:only-of-type {\n",
       "        vertical-align: middle;\n",
       "    }\n",
       "\n",
       "    .dataframe tbody tr th {\n",
       "        vertical-align: top;\n",
       "    }\n",
       "\n",
       "    .dataframe thead th {\n",
       "        text-align: right;\n",
       "    }\n",
       "</style>\n",
       "<table border=\"1\" class=\"dataframe\">\n",
       "  <thead>\n",
       "    <tr style=\"text-align: right;\">\n",
       "      <th></th>\n",
       "      <th>bodyType</th>\n",
       "      <th>brand</th>\n",
       "      <th>color</th>\n",
       "      <th>engineDisplacement</th>\n",
       "      <th>enginePower</th>\n",
       "      <th>fuelType</th>\n",
       "      <th>mileage</th>\n",
       "      <th>modelDate</th>\n",
       "      <th>model_name</th>\n",
       "      <th>numberOfDoors</th>\n",
       "      <th>productionDate</th>\n",
       "      <th>vehicleTransmission</th>\n",
       "      <th>Владельцы</th>\n",
       "      <th>ПТС</th>\n",
       "      <th>Привод</th>\n",
       "      <th>Руль</th>\n",
       "      <th>Состояние</th>\n",
       "      <th>sample</th>\n",
       "      <th>price</th>\n",
       "    </tr>\n",
       "  </thead>\n",
       "  <tbody>\n",
       "    <tr>\n",
       "      <th>35706</th>\n",
       "      <td>0.607143</td>\n",
       "      <td>0.032258</td>\n",
       "      <td>1.0</td>\n",
       "      <td>0.245614</td>\n",
       "      <td>190</td>\n",
       "      <td>0.75</td>\n",
       "      <td>0.0</td>\n",
       "      <td>2018</td>\n",
       "      <td>0.0</td>\n",
       "      <td>4</td>\n",
       "      <td>2021</td>\n",
       "      <td>0.666667</td>\n",
       "      <td>0.0</td>\n",
       "      <td>0.0</td>\n",
       "      <td>0.0</td>\n",
       "      <td>0.0</td>\n",
       "      <td>0.0</td>\n",
       "      <td>1</td>\n",
       "      <td>4290000.0</td>\n",
       "    </tr>\n",
       "  </tbody>\n",
       "</table>\n",
       "</div>"
      ],
      "text/plain": [
       "       bodyType     brand  color  engineDisplacement  enginePower  fuelType  \\\n",
       "35706  0.607143  0.032258    1.0            0.245614          190      0.75   \n",
       "\n",
       "       mileage  modelDate  model_name  numberOfDoors  productionDate  \\\n",
       "35706      0.0       2018         0.0              4            2021   \n",
       "\n",
       "       vehicleTransmission  Владельцы  ПТС  Привод  Руль  Состояние  sample  \\\n",
       "35706             0.666667        0.0  0.0     0.0   0.0        0.0       1   \n",
       "\n",
       "           price  \n",
       "35706  4290000.0  "
      ]
     },
     "metadata": {},
     "output_type": "display_data"
    },
    {
     "data": {
      "text/html": [
       "<div>\n",
       "<style scoped>\n",
       "    .dataframe tbody tr th:only-of-type {\n",
       "        vertical-align: middle;\n",
       "    }\n",
       "\n",
       "    .dataframe tbody tr th {\n",
       "        vertical-align: top;\n",
       "    }\n",
       "\n",
       "    .dataframe thead th {\n",
       "        text-align: right;\n",
       "    }\n",
       "</style>\n",
       "<table border=\"1\" class=\"dataframe\">\n",
       "  <thead>\n",
       "    <tr style=\"text-align: right;\">\n",
       "      <th></th>\n",
       "      <th>bodyType</th>\n",
       "      <th>brand</th>\n",
       "      <th>color</th>\n",
       "      <th>engineDisplacement</th>\n",
       "      <th>enginePower</th>\n",
       "      <th>fuelType</th>\n",
       "      <th>mileage</th>\n",
       "      <th>modelDate</th>\n",
       "      <th>model_name</th>\n",
       "      <th>numberOfDoors</th>\n",
       "      <th>productionDate</th>\n",
       "      <th>vehicleTransmission</th>\n",
       "      <th>Владельцы</th>\n",
       "      <th>ПТС</th>\n",
       "      <th>Привод</th>\n",
       "      <th>Руль</th>\n",
       "      <th>Состояние</th>\n",
       "      <th>sample</th>\n",
       "      <th>price</th>\n",
       "    </tr>\n",
       "  </thead>\n",
       "  <tbody>\n",
       "    <tr>\n",
       "      <th>count</th>\n",
       "      <td>38734.000000</td>\n",
       "      <td>38734.000000</td>\n",
       "      <td>38734.000000</td>\n",
       "      <td>38734.000000</td>\n",
       "      <td>38734.000000</td>\n",
       "      <td>38734.000000</td>\n",
       "      <td>3.873400e+04</td>\n",
       "      <td>38734.000000</td>\n",
       "      <td>38734.000000</td>\n",
       "      <td>38734.000000</td>\n",
       "      <td>38734.000000</td>\n",
       "      <td>38734.000000</td>\n",
       "      <td>38734.000000</td>\n",
       "      <td>38734.000000</td>\n",
       "      <td>38734.000000</td>\n",
       "      <td>38734.000000</td>\n",
       "      <td>38734.000000</td>\n",
       "      <td>38734.000000</td>\n",
       "      <td>3.873400e+04</td>\n",
       "    </tr>\n",
       "    <tr>\n",
       "      <th>mean</th>\n",
       "      <td>0.401658</td>\n",
       "      <td>0.558081</td>\n",
       "      <td>0.651311</td>\n",
       "      <td>0.315515</td>\n",
       "      <td>190.422136</td>\n",
       "      <td>0.144982</td>\n",
       "      <td>1.535406e+05</td>\n",
       "      <td>2007.728972</td>\n",
       "      <td>0.487544</td>\n",
       "      <td>4.473253</td>\n",
       "      <td>2009.955956</td>\n",
       "      <td>0.291045</td>\n",
       "      <td>0.709619</td>\n",
       "      <td>0.910260</td>\n",
       "      <td>0.749557</td>\n",
       "      <td>0.504725</td>\n",
       "      <td>0.972324</td>\n",
       "      <td>0.104508</td>\n",
       "      <td>3.442361e+05</td>\n",
       "    </tr>\n",
       "    <tr>\n",
       "      <th>std</th>\n",
       "      <td>0.291887</td>\n",
       "      <td>0.331021</td>\n",
       "      <td>0.360647</td>\n",
       "      <td>0.167760</td>\n",
       "      <td>92.848104</td>\n",
       "      <td>0.294973</td>\n",
       "      <td>1.024558e+05</td>\n",
       "      <td>7.550740</td>\n",
       "      <td>0.304182</td>\n",
       "      <td>0.697869</td>\n",
       "      <td>7.194864</td>\n",
       "      <td>0.364877</td>\n",
       "      <td>0.229212</td>\n",
       "      <td>0.224926</td>\n",
       "      <td>0.253733</td>\n",
       "      <td>0.126889</td>\n",
       "      <td>0.164045</td>\n",
       "      <td>0.305922</td>\n",
       "      <td>1.581679e+06</td>\n",
       "    </tr>\n",
       "    <tr>\n",
       "      <th>min</th>\n",
       "      <td>0.000000</td>\n",
       "      <td>0.000000</td>\n",
       "      <td>0.000000</td>\n",
       "      <td>0.000000</td>\n",
       "      <td>23.000000</td>\n",
       "      <td>0.000000</td>\n",
       "      <td>0.000000e+00</td>\n",
       "      <td>1904.000000</td>\n",
       "      <td>0.000000</td>\n",
       "      <td>0.000000</td>\n",
       "      <td>1904.000000</td>\n",
       "      <td>0.000000</td>\n",
       "      <td>0.000000</td>\n",
       "      <td>0.000000</td>\n",
       "      <td>0.000000</td>\n",
       "      <td>0.000000</td>\n",
       "      <td>0.000000</td>\n",
       "      <td>0.000000</td>\n",
       "      <td>0.000000e+00</td>\n",
       "    </tr>\n",
       "    <tr>\n",
       "      <th>25%</th>\n",
       "      <td>0.071429</td>\n",
       "      <td>0.354839</td>\n",
       "      <td>0.333333</td>\n",
       "      <td>0.210526</td>\n",
       "      <td>125.000000</td>\n",
       "      <td>0.000000</td>\n",
       "      <td>8.149250e+04</td>\n",
       "      <td>2004.000000</td>\n",
       "      <td>0.182309</td>\n",
       "      <td>4.000000</td>\n",
       "      <td>2007.000000</td>\n",
       "      <td>0.000000</td>\n",
       "      <td>0.600000</td>\n",
       "      <td>1.000000</td>\n",
       "      <td>0.666667</td>\n",
       "      <td>0.500000</td>\n",
       "      <td>1.000000</td>\n",
       "      <td>0.000000</td>\n",
       "      <td>0.000000e+00</td>\n",
       "    </tr>\n",
       "    <tr>\n",
       "      <th>50%</th>\n",
       "      <td>0.428571</td>\n",
       "      <td>0.629032</td>\n",
       "      <td>0.800000</td>\n",
       "      <td>0.245614</td>\n",
       "      <td>169.000000</td>\n",
       "      <td>0.000000</td>\n",
       "      <td>1.410000e+05</td>\n",
       "      <td>2009.000000</td>\n",
       "      <td>0.510248</td>\n",
       "      <td>5.000000</td>\n",
       "      <td>2011.000000</td>\n",
       "      <td>0.000000</td>\n",
       "      <td>0.600000</td>\n",
       "      <td>1.000000</td>\n",
       "      <td>0.666667</td>\n",
       "      <td>0.500000</td>\n",
       "      <td>1.000000</td>\n",
       "      <td>0.000000</td>\n",
       "      <td>0.000000e+00</td>\n",
       "    </tr>\n",
       "    <tr>\n",
       "      <th>75%</th>\n",
       "      <td>0.607143</td>\n",
       "      <td>0.887097</td>\n",
       "      <td>1.000000</td>\n",
       "      <td>0.421053</td>\n",
       "      <td>235.000000</td>\n",
       "      <td>0.000000</td>\n",
       "      <td>2.070000e+05</td>\n",
       "      <td>2013.000000</td>\n",
       "      <td>0.715210</td>\n",
       "      <td>5.000000</td>\n",
       "      <td>2015.000000</td>\n",
       "      <td>0.666667</td>\n",
       "      <td>0.800000</td>\n",
       "      <td>1.000000</td>\n",
       "      <td>1.000000</td>\n",
       "      <td>0.500000</td>\n",
       "      <td>1.000000</td>\n",
       "      <td>0.000000</td>\n",
       "      <td>0.000000e+00</td>\n",
       "    </tr>\n",
       "    <tr>\n",
       "      <th>max</th>\n",
       "      <td>1.000000</td>\n",
       "      <td>1.000000</td>\n",
       "      <td>1.000000</td>\n",
       "      <td>1.000000</td>\n",
       "      <td>820.000000</td>\n",
       "      <td>1.000000</td>\n",
       "      <td>1.060000e+06</td>\n",
       "      <td>2021.000000</td>\n",
       "      <td>1.000000</td>\n",
       "      <td>5.000000</td>\n",
       "      <td>2021.000000</td>\n",
       "      <td>1.000000</td>\n",
       "      <td>1.000000</td>\n",
       "      <td>1.000000</td>\n",
       "      <td>1.000000</td>\n",
       "      <td>1.000000</td>\n",
       "      <td>1.000000</td>\n",
       "      <td>1.000000</td>\n",
       "      <td>3.391000e+07</td>\n",
       "    </tr>\n",
       "  </tbody>\n",
       "</table>\n",
       "</div>"
      ],
      "text/plain": [
       "           bodyType         brand         color  engineDisplacement  \\\n",
       "count  38734.000000  38734.000000  38734.000000        38734.000000   \n",
       "mean       0.401658      0.558081      0.651311            0.315515   \n",
       "std        0.291887      0.331021      0.360647            0.167760   \n",
       "min        0.000000      0.000000      0.000000            0.000000   \n",
       "25%        0.071429      0.354839      0.333333            0.210526   \n",
       "50%        0.428571      0.629032      0.800000            0.245614   \n",
       "75%        0.607143      0.887097      1.000000            0.421053   \n",
       "max        1.000000      1.000000      1.000000            1.000000   \n",
       "\n",
       "        enginePower      fuelType       mileage     modelDate    model_name  \\\n",
       "count  38734.000000  38734.000000  3.873400e+04  38734.000000  38734.000000   \n",
       "mean     190.422136      0.144982  1.535406e+05   2007.728972      0.487544   \n",
       "std       92.848104      0.294973  1.024558e+05      7.550740      0.304182   \n",
       "min       23.000000      0.000000  0.000000e+00   1904.000000      0.000000   \n",
       "25%      125.000000      0.000000  8.149250e+04   2004.000000      0.182309   \n",
       "50%      169.000000      0.000000  1.410000e+05   2009.000000      0.510248   \n",
       "75%      235.000000      0.000000  2.070000e+05   2013.000000      0.715210   \n",
       "max      820.000000      1.000000  1.060000e+06   2021.000000      1.000000   \n",
       "\n",
       "       numberOfDoors  productionDate  vehicleTransmission     Владельцы  \\\n",
       "count   38734.000000    38734.000000         38734.000000  38734.000000   \n",
       "mean        4.473253     2009.955956             0.291045      0.709619   \n",
       "std         0.697869        7.194864             0.364877      0.229212   \n",
       "min         0.000000     1904.000000             0.000000      0.000000   \n",
       "25%         4.000000     2007.000000             0.000000      0.600000   \n",
       "50%         5.000000     2011.000000             0.000000      0.600000   \n",
       "75%         5.000000     2015.000000             0.666667      0.800000   \n",
       "max         5.000000     2021.000000             1.000000      1.000000   \n",
       "\n",
       "                ПТС        Привод          Руль     Состояние        sample  \\\n",
       "count  38734.000000  38734.000000  38734.000000  38734.000000  38734.000000   \n",
       "mean       0.910260      0.749557      0.504725      0.972324      0.104508   \n",
       "std        0.224926      0.253733      0.126889      0.164045      0.305922   \n",
       "min        0.000000      0.000000      0.000000      0.000000      0.000000   \n",
       "25%        1.000000      0.666667      0.500000      1.000000      0.000000   \n",
       "50%        1.000000      0.666667      0.500000      1.000000      0.000000   \n",
       "75%        1.000000      1.000000      0.500000      1.000000      0.000000   \n",
       "max        1.000000      1.000000      1.000000      1.000000      1.000000   \n",
       "\n",
       "              price  \n",
       "count  3.873400e+04  \n",
       "mean   3.442361e+05  \n",
       "std    1.581679e+06  \n",
       "min    0.000000e+00  \n",
       "25%    0.000000e+00  \n",
       "50%    0.000000e+00  \n",
       "75%    0.000000e+00  \n",
       "max    3.391000e+07  "
      ]
     },
     "metadata": {},
     "output_type": "display_data"
    }
   ],
   "source": [
    "pd.set_option('display.max_columns', None)\n",
    "display(data.sample(3).head(1))\n",
    "display(data.describe())"
   ]
  },
  {
   "cell_type": "markdown",
   "metadata": {},
   "source": [
    "# Построим наивную модель"
   ]
  },
  {
   "cell_type": "code",
   "execution_count": 125,
   "metadata": {},
   "outputs": [],
   "source": [
    "def mape(y_true, y_pred):\n",
    "    return np.mean(np.abs((y_pred-y_true)/y_true))"
   ]
  },
  {
   "cell_type": "code",
   "execution_count": 126,
   "metadata": {},
   "outputs": [],
   "source": [
    "tmp_train = X_train.copy()\n",
    "tmp_train['price'] = y_train"
   ]
  },
  {
   "cell_type": "code",
   "execution_count": 127,
   "metadata": {},
   "outputs": [
    {
     "name": "stdout",
     "output_type": "stream",
     "text": [
      "Точность наивной модели по метрике MAPE: 87.82%\n"
     ]
    }
   ],
   "source": [
    "predict = X_test['engineDisplacement'].map(tmp_train.groupby('engineDisplacement')['price'].median())\n",
    "\n",
    "#оцениваем точность\n",
    "print(f\"Точность наивной модели по метрике MAPE: {(mape(y_test, predict.values))*100:0.2f}%\")"
   ]
  },
  {
   "cell_type": "markdown",
   "metadata": {},
   "source": [
    "# Случайный лес"
   ]
  },
  {
   "cell_type": "code",
   "execution_count": 146,
   "metadata": {},
   "outputs": [
    {
     "name": "stdout",
     "output_type": "stream",
     "text": [
      "Fitting 3 folds for each of 100 candidates, totalling 300 fits\n"
     ]
    },
    {
     "name": "stderr",
     "output_type": "stream",
     "text": [
      "[Parallel(n_jobs=-1)]: Using backend LokyBackend with 4 concurrent workers.\n",
      "[Parallel(n_jobs=-1)]: Done   5 tasks      | elapsed:    9.6s\n",
      "[Parallel(n_jobs=-1)]: Done  10 tasks      | elapsed:   14.0s\n",
      "[Parallel(n_jobs=-1)]: Done  17 tasks      | elapsed:   20.3s\n",
      "[Parallel(n_jobs=-1)]: Done  24 tasks      | elapsed:   25.5s\n",
      "[Parallel(n_jobs=-1)]: Done  33 tasks      | elapsed:   29.8s\n",
      "[Parallel(n_jobs=-1)]: Done  42 tasks      | elapsed:   35.9s\n",
      "[Parallel(n_jobs=-1)]: Done  53 tasks      | elapsed:   45.6s\n",
      "[Parallel(n_jobs=-1)]: Done  64 tasks      | elapsed:   56.4s\n",
      "[Parallel(n_jobs=-1)]: Done  77 tasks      | elapsed:  1.0min\n",
      "[Parallel(n_jobs=-1)]: Done  90 tasks      | elapsed:  1.2min\n",
      "[Parallel(n_jobs=-1)]: Done 105 tasks      | elapsed:  1.3min\n",
      "[Parallel(n_jobs=-1)]: Done 120 tasks      | elapsed:  1.5min\n",
      "[Parallel(n_jobs=-1)]: Done 137 tasks      | elapsed:  1.8min\n",
      "[Parallel(n_jobs=-1)]: Done 154 tasks      | elapsed:  1.9min\n",
      "[Parallel(n_jobs=-1)]: Done 173 tasks      | elapsed:  2.1min\n",
      "[Parallel(n_jobs=-1)]: Done 192 tasks      | elapsed:  2.3min\n",
      "[Parallel(n_jobs=-1)]: Done 213 tasks      | elapsed:  2.6min\n",
      "[Parallel(n_jobs=-1)]: Done 234 tasks      | elapsed:  2.9min\n",
      "[Parallel(n_jobs=-1)]: Done 257 tasks      | elapsed:  3.0min\n",
      "[Parallel(n_jobs=-1)]: Done 280 tasks      | elapsed:  3.4min\n",
      "[Parallel(n_jobs=-1)]: Done 300 out of 300 | elapsed:  3.5min finished\n"
     ]
    },
    {
     "data": {
      "text/plain": [
       "{'n_estimators': 300,\n",
       " 'min_samples_split': 2,\n",
       " 'min_samples_leaf': 1,\n",
       " 'max_features': 'sqrt',\n",
       " 'max_depth': 11,\n",
       " 'bootstrap': False}"
      ]
     },
     "execution_count": 146,
     "metadata": {},
     "output_type": "execute_result"
    }
   ],
   "source": [
    "random_grid = {'n_estimators': [int(x) for x in np.linspace(start = 100, stop = 400, num = 4)],\n",
    "               'max_features': ['auto', 'sqrt'],\n",
    "               'max_depth': [int(x) for x in np.linspace(5, 15, num = 6)] + [None],\n",
    "               'min_samples_split': [2, 5, 10],\n",
    "               'min_samples_leaf': [1, 2, 4],\n",
    "               'bootstrap': [True, False]}\n",
    "rfr = RandomForestRegressor(random_state = 42)\n",
    "rf_random = RandomizedSearchCV(estimator = rfr, param_distributions = random_grid, n_iter = 100, cv = 3, verbose=10, random_state=42, n_jobs = -1)\n",
    "rf_random.fit(X_train, y_train)\n",
    "rf_random.best_params_"
   ]
  },
  {
   "cell_type": "code",
   "execution_count": 147,
   "metadata": {},
   "outputs": [
    {
     "name": "stdout",
     "output_type": "stream",
     "text": [
      "Точность по метрике MAPE:18.96%\n"
     ]
    }
   ],
   "source": [
    "best_rfr = RandomForestRegressor(random_state=42\n",
    "                      , n_estimators=300\n",
    "                      , min_samples_split=2\n",
    "                      , min_samples_leaf=1\n",
    "                      , max_features='sqrt'\n",
    "                      , max_depth=11\n",
    "                      , bootstrap=False)\n",
    "\n",
    "best_rfr.fit(X_train, y_train)\n",
    "\n",
    "\n",
    "predict_rfr = best_rfr.predict(X_test)\n",
    "print_learn_report(y_test, predict_rfr)"
   ]
  },
  {
   "cell_type": "markdown",
   "metadata": {},
   "source": [
    "Прологарифмируем переменную"
   ]
  },
  {
   "cell_type": "code",
   "execution_count": 306,
   "metadata": {},
   "outputs": [
    {
     "name": "stdout",
     "output_type": "stream",
     "text": [
      "Fitting 3 folds for each of 100 candidates, totalling 300 fits\n"
     ]
    },
    {
     "name": "stderr",
     "output_type": "stream",
     "text": [
      "[Parallel(n_jobs=-1)]: Using backend LokyBackend with 4 concurrent workers.\n",
      "[Parallel(n_jobs=-1)]: Done   5 tasks      | elapsed:   13.9s\n",
      "[Parallel(n_jobs=-1)]: Done  10 tasks      | elapsed:   16.1s\n",
      "[Parallel(n_jobs=-1)]: Done  17 tasks      | elapsed:   18.3s\n",
      "[Parallel(n_jobs=-1)]: Done  24 tasks      | elapsed:   26.4s\n",
      "[Parallel(n_jobs=-1)]: Done  33 tasks      | elapsed:   36.6s\n",
      "[Parallel(n_jobs=-1)]: Done  42 tasks      | elapsed:   43.6s\n",
      "[Parallel(n_jobs=-1)]: Done  53 tasks      | elapsed:   48.4s\n",
      "[Parallel(n_jobs=-1)]: Done  64 tasks      | elapsed:   54.7s\n",
      "[Parallel(n_jobs=-1)]: Done  77 tasks      | elapsed:  1.0min\n",
      "[Parallel(n_jobs=-1)]: Done  90 tasks      | elapsed:  1.3min\n",
      "[Parallel(n_jobs=-1)]: Done 105 tasks      | elapsed:  1.4min\n",
      "[Parallel(n_jobs=-1)]: Done 120 tasks      | elapsed:  1.6min\n",
      "[Parallel(n_jobs=-1)]: Done 137 tasks      | elapsed:  1.9min\n",
      "[Parallel(n_jobs=-1)]: Done 154 tasks      | elapsed:  2.1min\n",
      "[Parallel(n_jobs=-1)]: Done 173 tasks      | elapsed:  2.4min\n",
      "[Parallel(n_jobs=-1)]: Done 192 tasks      | elapsed:  2.7min\n",
      "[Parallel(n_jobs=-1)]: Done 213 tasks      | elapsed:  3.0min\n",
      "[Parallel(n_jobs=-1)]: Done 234 tasks      | elapsed:  3.4min\n",
      "[Parallel(n_jobs=-1)]: Done 257 tasks      | elapsed:  3.5min\n",
      "[Parallel(n_jobs=-1)]: Done 280 tasks      | elapsed:  3.9min\n",
      "[Parallel(n_jobs=-1)]: Done 300 out of 300 | elapsed:  4.2min finished\n"
     ]
    },
    {
     "data": {
      "text/plain": [
       "{'n_estimators': 500,\n",
       " 'min_samples_split': 2,\n",
       " 'min_samples_leaf': 1,\n",
       " 'max_features': 'sqrt',\n",
       " 'max_depth': None,\n",
       " 'bootstrap': False}"
      ]
     },
     "execution_count": 306,
     "metadata": {},
     "output_type": "execute_result"
    }
   ],
   "source": [
    "random_grid = {'n_estimators': [int(x) for x in np.linspace(start = 100, stop = 500, num = 5)],\n",
    "               'max_features': ['auto', 'sqrt'],\n",
    "               'max_depth': [int(x) for x in np.linspace(5, 15, num = 5)] + [None],\n",
    "               'min_samples_split': [2, 5, 10],\n",
    "               'min_samples_leaf': [1, 2, 4],\n",
    "               'bootstrap': [True, False]}\n",
    "rfr = RandomForestRegressor(random_state = 42)\n",
    "rf_random = RandomizedSearchCV(estimator = rfr, param_distributions = random_grid, n_iter = 100, cv = 3, verbose=10, random_state=42, n_jobs = -1)\n",
    "rf_random.fit(X_train, np.log(y_train))\n",
    "rf_random.best_params_"
   ]
  },
  {
   "cell_type": "code",
   "execution_count": 307,
   "metadata": {},
   "outputs": [
    {
     "name": "stdout",
     "output_type": "stream",
     "text": [
      "Точность по метрике MAPE:13.52%\n"
     ]
    }
   ],
   "source": [
    "best_rfr = RandomForestRegressor(random_state=42\n",
    "                      , n_estimators=500\n",
    "                      , min_samples_split=2\n",
    "                      , min_samples_leaf=1\n",
    "                      , max_features='sqrt'\n",
    "                      , max_depth=None\n",
    "                      , bootstrap=False)\n",
    "\n",
    "best_rfr.fit(X_train, np.log(y_train))\n",
    "\n",
    "\n",
    "predict_rfr = np.exp(best_rfr.predict(X_test))\n",
    "print_learn_report(y_test, predict_rfr)"
   ]
  },
  {
   "cell_type": "markdown",
   "metadata": {},
   "source": [
    "# XGB"
   ]
  },
  {
   "cell_type": "code",
   "execution_count": 216,
   "metadata": {},
   "outputs": [],
   "source": [
    "xgb_reg = xgb.XGBRegressor(objective='reg:squarederror', colsample_bytree=0.5,\n",
    "                          learning_rate=0.01, max_depth=15, alpha=1,\n",
    "                          n_estimators=1000)\n",
    "xgb_reg.fit(X_train, y_train)\n",
    "xgb_red_pred = xgb_reg.predict(X_test)"
   ]
  },
  {
   "cell_type": "code",
   "execution_count": 168,
   "metadata": {},
   "outputs": [],
   "source": [
    "def print_learn_report(y_test, y_pred):\n",
    "    print(f\"Точность по метрике MAPE:{(mape(y_test, y_pred))*100:0.2f}%\")"
   ]
  },
  {
   "cell_type": "code",
   "execution_count": 169,
   "metadata": {},
   "outputs": [
    {
     "name": "stdout",
     "output_type": "stream",
     "text": [
      "Точность по метрике MAPE:14.60%\n"
     ]
    }
   ],
   "source": [
    "print_learn_report(y_test, xgb_red_pred)"
   ]
  },
  {
   "cell_type": "markdown",
   "metadata": {},
   "source": [
    "Попробуем проогарифмировать переменную"
   ]
  },
  {
   "cell_type": "code",
   "execution_count": 311,
   "metadata": {},
   "outputs": [],
   "source": [
    "xgb_reg = xgb.XGBRegressor(objective='reg:squarederror', colsample_bytree=0.5,\n",
    "                          learning_rate=0.05, max_depth=15, alpha=1,\n",
    "                          n_estimators=1000)\n",
    "xgb_reg.fit(X_train, np.log(y_train))\n",
    "xgb_red_pred = np.exp(xgb_reg.predict(X_test))"
   ]
  },
  {
   "cell_type": "code",
   "execution_count": 312,
   "metadata": {},
   "outputs": [
    {
     "name": "stdout",
     "output_type": "stream",
     "text": [
      "Точность по метрике MAPE:13.58%\n"
     ]
    }
   ],
   "source": [
    "print_learn_report(y_test, xgb_red_pred)"
   ]
  },
  {
   "cell_type": "markdown",
   "metadata": {},
   "source": [
    "# GradientBoosting"
   ]
  },
  {
   "cell_type": "code",
   "execution_count": 238,
   "metadata": {},
   "outputs": [],
   "source": [
    "RANDOM_SEED = 42"
   ]
  },
  {
   "cell_type": "code",
   "execution_count": 239,
   "metadata": {},
   "outputs": [
    {
     "name": "stdout",
     "output_type": "stream",
     "text": [
      "Fitting 3 folds for each of 100 candidates, totalling 300 fits\n"
     ]
    },
    {
     "name": "stderr",
     "output_type": "stream",
     "text": [
      "[Parallel(n_jobs=-1)]: Using backend LokyBackend with 4 concurrent workers.\n",
      "[Parallel(n_jobs=-1)]: Done   5 tasks      | elapsed:    6.5s\n",
      "[Parallel(n_jobs=-1)]: Done  10 tasks      | elapsed:    9.4s\n",
      "[Parallel(n_jobs=-1)]: Done  17 tasks      | elapsed:   12.6s\n",
      "[Parallel(n_jobs=-1)]: Done  24 tasks      | elapsed:   13.4s\n",
      "[Parallel(n_jobs=-1)]: Done  33 tasks      | elapsed:   16.1s\n",
      "[Parallel(n_jobs=-1)]: Done  42 tasks      | elapsed:   20.5s\n",
      "[Parallel(n_jobs=-1)]: Done  53 tasks      | elapsed:   29.2s\n",
      "[Parallel(n_jobs=-1)]: Done  64 tasks      | elapsed:   33.0s\n",
      "[Parallel(n_jobs=-1)]: Done  77 tasks      | elapsed:   45.2s\n",
      "[Parallel(n_jobs=-1)]: Done  90 tasks      | elapsed:   50.2s\n",
      "[Parallel(n_jobs=-1)]: Done 105 tasks      | elapsed:  1.1min\n",
      "[Parallel(n_jobs=-1)]: Done 120 tasks      | elapsed:  1.3min\n",
      "[Parallel(n_jobs=-1)]: Done 137 tasks      | elapsed:  1.5min\n",
      "[Parallel(n_jobs=-1)]: Done 154 tasks      | elapsed:  1.8min\n",
      "[Parallel(n_jobs=-1)]: Done 173 tasks      | elapsed:  1.9min\n",
      "[Parallel(n_jobs=-1)]: Done 192 tasks      | elapsed:  2.2min\n",
      "[Parallel(n_jobs=-1)]: Done 213 tasks      | elapsed:  2.3min\n",
      "[Parallel(n_jobs=-1)]: Done 234 tasks      | elapsed:  2.6min\n",
      "[Parallel(n_jobs=-1)]: Done 257 tasks      | elapsed:  2.8min\n",
      "[Parallel(n_jobs=-1)]: Done 280 tasks      | elapsed:  3.0min\n",
      "[Parallel(n_jobs=-1)]: Done 300 out of 300 | elapsed:  3.2min finished\n"
     ]
    },
    {
     "data": {
      "text/plain": [
       "{'n_estimators': 366,\n",
       " 'min_samples_split': 10,\n",
       " 'min_samples_leaf': 1,\n",
       " 'max_features': 'sqrt',\n",
       " 'max_depth': 8}"
      ]
     },
     "execution_count": 239,
     "metadata": {},
     "output_type": "execute_result"
    }
   ],
   "source": [
    "random_grid = {'n_estimators': [int(x) for x in np.linspace(start = 100, stop = 500, num = 10)],\n",
    "               'max_features': ['auto', 'sqrt', 'log2'],\n",
    "               'max_depth': [int(x) for x in np.linspace(5, 15, num = 10)] + [None],\n",
    "               'min_samples_split': [2, 5, 10],\n",
    "               'min_samples_leaf': [1, 2, 4]}\n",
    "\n",
    "gbr = GradientBoostingRegressor()\n",
    "gbr_random = RandomizedSearchCV(estimator = gbr, param_distributions = random_grid, n_iter = 100, cv = 3, verbose=10, random_state=RANDOM_SEED, n_jobs = -1)\n",
    "gbr_random.fit(X_train, y_train)\n",
    "gbr_random.best_params_"
   ]
  },
  {
   "cell_type": "code",
   "execution_count": 310,
   "metadata": {},
   "outputs": [
    {
     "name": "stdout",
     "output_type": "stream",
     "text": [
      "Точность по метрике MAPE:14.32%\n"
     ]
    }
   ],
   "source": [
    "best_gbr = GradientBoostingRegressor(random_state=RANDOM_SEED\n",
    "                      , n_estimators=366\n",
    "                      , min_samples_split=10\n",
    "                      , min_samples_leaf=1\n",
    "                      , max_features='sqrt'\n",
    "                      , max_depth=8)\n",
    "best_gbr.fit(X_train, y_train)\n",
    "\n",
    "predict_gbr = best_gbr.predict(X_test)\n",
    "print_learn_report(y_test, predict_gbr)"
   ]
  },
  {
   "cell_type": "markdown",
   "metadata": {},
   "source": [
    "Прологарифмируем переменную"
   ]
  },
  {
   "cell_type": "code",
   "execution_count": 241,
   "metadata": {},
   "outputs": [
    {
     "name": "stdout",
     "output_type": "stream",
     "text": [
      "Fitting 3 folds for each of 100 candidates, totalling 300 fits\n"
     ]
    },
    {
     "name": "stderr",
     "output_type": "stream",
     "text": [
      "[Parallel(n_jobs=-1)]: Using backend LokyBackend with 4 concurrent workers.\n",
      "[Parallel(n_jobs=-1)]: Done   5 tasks      | elapsed:    2.5s\n",
      "[Parallel(n_jobs=-1)]: Done  10 tasks      | elapsed:    4.4s\n",
      "[Parallel(n_jobs=-1)]: Done  17 tasks      | elapsed:    8.2s\n",
      "[Parallel(n_jobs=-1)]: Done  24 tasks      | elapsed:    9.1s\n",
      "[Parallel(n_jobs=-1)]: Done  33 tasks      | elapsed:   11.8s\n",
      "[Parallel(n_jobs=-1)]: Done  42 tasks      | elapsed:   16.8s\n",
      "[Parallel(n_jobs=-1)]: Done  53 tasks      | elapsed:   26.8s\n",
      "[Parallel(n_jobs=-1)]: Done  64 tasks      | elapsed:   30.4s\n",
      "[Parallel(n_jobs=-1)]: Done  77 tasks      | elapsed:   41.1s\n",
      "[Parallel(n_jobs=-1)]: Done  90 tasks      | elapsed:   46.2s\n",
      "[Parallel(n_jobs=-1)]: Done 105 tasks      | elapsed:  1.2min\n",
      "[Parallel(n_jobs=-1)]: Done 120 tasks      | elapsed:  1.3min\n",
      "[Parallel(n_jobs=-1)]: Done 137 tasks      | elapsed:  1.6min\n",
      "[Parallel(n_jobs=-1)]: Done 154 tasks      | elapsed:  1.9min\n",
      "[Parallel(n_jobs=-1)]: Done 173 tasks      | elapsed:  2.1min\n",
      "[Parallel(n_jobs=-1)]: Done 192 tasks      | elapsed:  2.4min\n",
      "[Parallel(n_jobs=-1)]: Done 213 tasks      | elapsed:  2.5min\n",
      "[Parallel(n_jobs=-1)]: Done 234 tasks      | elapsed:  3.0min\n",
      "[Parallel(n_jobs=-1)]: Done 257 tasks      | elapsed:  3.2min\n",
      "[Parallel(n_jobs=-1)]: Done 280 tasks      | elapsed:  3.4min\n",
      "[Parallel(n_jobs=-1)]: Done 300 out of 300 | elapsed:  3.6min finished\n"
     ]
    },
    {
     "data": {
      "text/plain": [
       "{'n_estimators': 455,\n",
       " 'min_samples_split': 10,\n",
       " 'min_samples_leaf': 1,\n",
       " 'max_features': 'log2',\n",
       " 'max_depth': 6}"
      ]
     },
     "execution_count": 241,
     "metadata": {},
     "output_type": "execute_result"
    }
   ],
   "source": [
    "random_grid = {'n_estimators': [int(x) for x in np.linspace(start = 100, stop = 500, num = 10)],\n",
    "               'max_features': ['auto', 'sqrt', 'log2'],\n",
    "               'max_depth': [int(x) for x in np.linspace(5, 15, num = 10)] + [None],\n",
    "               'min_samples_split': [2, 5, 10],\n",
    "               'min_samples_leaf': [1, 2, 4]}\n",
    "\n",
    "gbr = GradientBoostingRegressor()\n",
    "gbr_random = RandomizedSearchCV(estimator = gbr, param_distributions = random_grid, n_iter = 100, cv = 3, verbose=10, random_state=RANDOM_SEED, n_jobs = -1)\n",
    "gbr_random.fit(X_train, np.log(y_train))\n",
    "gbr_random.best_params_"
   ]
  },
  {
   "cell_type": "code",
   "execution_count": 242,
   "metadata": {},
   "outputs": [
    {
     "name": "stdout",
     "output_type": "stream",
     "text": [
      "Точность по метрике MAPE:13.50%\n"
     ]
    }
   ],
   "source": [
    "best_gbr = GradientBoostingRegressor(random_state=RANDOM_SEED\n",
    "                      , n_estimators=455\n",
    "                      , min_samples_split=5\n",
    "                      , min_samples_leaf=4\n",
    "                      , max_features='log2'\n",
    "                      , max_depth=6)\n",
    "best_gbr.fit(X_train, np.log(y_train))\n",
    "\n",
    "predict_gbr = np.exp(best_gbr.predict(X_test))\n",
    "print_learn_report(y_test, predict_gbr)"
   ]
  },
  {
   "cell_type": "markdown",
   "metadata": {},
   "source": [
    "# CatBoost"
   ]
  },
  {
   "cell_type": "code",
   "execution_count": 313,
   "metadata": {},
   "outputs": [
    {
     "data": {
      "application/vnd.jupyter.widget-view+json": {
       "model_id": "3a96bdbc383e46a5be1ef9b29d520a33",
       "version_major": 2,
       "version_minor": 0
      },
      "text/plain": [
       "MetricVisualizer(layout=Layout(align_self='stretch', height='500px'))"
      ]
     },
     "metadata": {},
     "output_type": "display_data"
    },
    {
     "name": "stdout",
     "output_type": "stream",
     "text": [
      "Точность по метрике MAPE:15.11%\n"
     ]
    }
   ],
   "source": [
    "model = CatBoostRegressor(iterations = 10000,\n",
    "                          random_seed = RANDOM_SEED,\n",
    "                          eval_metric='MAPE',\n",
    "                          custom_metric=['R2', 'MAE'],\n",
    "                          silent=True,\n",
    "                         )\n",
    "model.fit(X_train, y_train,\n",
    "         eval_set=(X_test, y_test),\n",
    "         verbose_eval=0,\n",
    "         use_best_model=True,\n",
    "         plot=True)\n",
    "predict = model.predict(X_test)\n",
    "print_learn_report(y_test,predict)"
   ]
  },
  {
   "cell_type": "markdown",
   "metadata": {},
   "source": [
    "# Бэггинг"
   ]
  },
  {
   "cell_type": "markdown",
   "metadata": {},
   "source": [
    "Бэггинг+случайный лес"
   ]
  },
  {
   "cell_type": "code",
   "execution_count": 314,
   "metadata": {},
   "outputs": [
    {
     "name": "stdout",
     "output_type": "stream",
     "text": [
      "Точность по метрике MAPE:15.02%\n"
     ]
    }
   ],
   "source": [
    "bagg_rfr = BaggingRegressor(best_rfr, n_estimators=5, n_jobs=-1, random_state=RANDOM_SEED)\n",
    "bagg_rfr.fit(X_train, np.log(y_train))\n",
    "predict_bagg_rfr = np.exp(bagg_rfr.predict(X_test))\n",
    "print_learn_report(y_test, predict_bagg_rfr)"
   ]
  },
  {
   "cell_type": "markdown",
   "metadata": {},
   "source": [
    "Бэггинг+градиентный бустинг"
   ]
  },
  {
   "cell_type": "code",
   "execution_count": 315,
   "metadata": {},
   "outputs": [
    {
     "name": "stdout",
     "output_type": "stream",
     "text": [
      "Точность по метрике MAPE:13.95%\n"
     ]
    }
   ],
   "source": [
    "bagg_gbr = BaggingRegressor(best_gbr, n_estimators=5, n_jobs=-1, random_state=RANDOM_SEED)\n",
    "bagg_gbr.fit(X_train, np.log(y_train))\n",
    "predict_bagg_gbr = np.exp(bagg_gbr.predict(X_test))\n",
    "print_learn_report(y_test, predict_bagg_gbr)"
   ]
  },
  {
   "cell_type": "markdown",
   "metadata": {},
   "source": [
    "Бэггинг+xgb"
   ]
  },
  {
   "cell_type": "code",
   "execution_count": 316,
   "metadata": {},
   "outputs": [
    {
     "name": "stdout",
     "output_type": "stream",
     "text": [
      "Точность по метрике MAPE:14.53%\n"
     ]
    }
   ],
   "source": [
    "bagg_xgb = BaggingRegressor(xgb_reg, n_estimators=5, n_jobs=-1, random_state=RANDOM_SEED)\n",
    "bagg_xgb.fit(X_train, np.log(y_train))\n",
    "predict_bagg_xgb = np.exp(bagg_xgb.predict(X_test))\n",
    "print_learn_report(y_test, predict_bagg_xgb)"
   ]
  },
  {
   "cell_type": "markdown",
   "metadata": {},
   "source": [
    "Бэггинг не дал улучшений в результатах"
   ]
  },
  {
   "cell_type": "markdown",
   "metadata": {},
   "source": [
    "# Stacking"
   ]
  },
  {
   "cell_type": "markdown",
   "metadata": {},
   "source": [
    "Используем бэггенг градиентного бустинга, так как он показал наилучшее значение и XGB, для final estimator используем случайный лес - он показал один из лучших результатов на данный момент"
   ]
  },
  {
   "cell_type": "code",
   "execution_count": 317,
   "metadata": {},
   "outputs": [
    {
     "name": "stdout",
     "output_type": "stream",
     "text": [
      "Точность по метрике MAPE:17.59%\n"
     ]
    }
   ],
   "source": [
    "estimators=[('b_gbr', BaggingRegressor(GradientBoostingRegressor(random_state=RANDOM_SEED\n",
    "                                                                ,n_estimators=271\n",
    "                                                                ,min_samples_split=5\n",
    "                                                                ,min_samples_leaf=2\n",
    "                                                                ,max_features='sqrt'\n",
    "                                                                ,max_depth=97)\n",
    "                                        ,n_estimators=3\n",
    "                                        ,n_jobs=1\n",
    "                                        ,random_state=RANDOM_SEED))\n",
    "            ,('xgb', xgb.XGBRegressor(objective='reg:squarederror'\n",
    "                                      ,colsample_bytree=0.5\n",
    "                                      ,learning_rate=0.01\n",
    "                                      ,max_depth=15\n",
    "                                      ,alpha=1\n",
    "                                      ,n_estimators=1000))]\n",
    "\n",
    "st_ensemble = StackingRegressor(estimators=estimators\n",
    "                                ,final_estimator = RandomForestRegressor(\n",
    "    random_state=42, n_estimators=500, min_samples_split=2, min_samples_leaf=1, max_features='sqrt', max_depth=None, bootstrap=False))\n",
    "\n",
    "    \n",
    "st_ensemble.fit(X_train, np.log(y_train))\n",
    "predict_ensemble=np.exp(st_ensemble.predict(X_test))\n",
    "print_learn_report(y_test, predict_ensemble)"
   ]
  },
  {
   "cell_type": "markdown",
   "metadata": {},
   "source": [
    "Стэкинг нерезультативен"
   ]
  },
  {
   "cell_type": "markdown",
   "metadata": {},
   "source": [
    "# Предсказание"
   ]
  },
  {
   "cell_type": "markdown",
   "metadata": {},
   "source": [
    "Лучшей моделью оказалось RGB с подобранными параметрами и логарифмизацией"
   ]
  },
  {
   "cell_type": "code",
   "execution_count": 249,
   "metadata": {},
   "outputs": [],
   "source": [
    "#Обучим модель на всех спарсенных данных\n",
    "best_gbr.fit(X,np.log(y))\n",
    "X_sub = data.query('sample == 0').drop(['sample','price'], axis=1)\n",
    "pred_sub = np.exp(best_gbr.predict(X_sub))"
   ]
  },
  {
   "cell_type": "code",
   "execution_count": 250,
   "metadata": {},
   "outputs": [],
   "source": [
    "submission = pd.read_csv('test.csv')"
   ]
  },
  {
   "cell_type": "code",
   "execution_count": 251,
   "metadata": {},
   "outputs": [],
   "source": [
    "submission['price'] = pred_sub"
   ]
  },
  {
   "cell_type": "code",
   "execution_count": 252,
   "metadata": {},
   "outputs": [],
   "source": [
    "submission = submission[['sell_id','price']]"
   ]
  },
  {
   "cell_type": "code",
   "execution_count": 253,
   "metadata": {},
   "outputs": [
    {
     "data": {
      "text/html": [
       "<div>\n",
       "<style scoped>\n",
       "    .dataframe tbody tr th:only-of-type {\n",
       "        vertical-align: middle;\n",
       "    }\n",
       "\n",
       "    .dataframe tbody tr th {\n",
       "        vertical-align: top;\n",
       "    }\n",
       "\n",
       "    .dataframe thead th {\n",
       "        text-align: right;\n",
       "    }\n",
       "</style>\n",
       "<table border=\"1\" class=\"dataframe\">\n",
       "  <thead>\n",
       "    <tr style=\"text-align: right;\">\n",
       "      <th></th>\n",
       "      <th>sell_id</th>\n",
       "      <th>price</th>\n",
       "    </tr>\n",
       "  </thead>\n",
       "  <tbody>\n",
       "    <tr>\n",
       "      <th>0</th>\n",
       "      <td>1100575026</td>\n",
       "      <td>9.867622e+05</td>\n",
       "    </tr>\n",
       "    <tr>\n",
       "      <th>1</th>\n",
       "      <td>1100549428</td>\n",
       "      <td>1.227083e+06</td>\n",
       "    </tr>\n",
       "    <tr>\n",
       "      <th>2</th>\n",
       "      <td>1100658222</td>\n",
       "      <td>1.197929e+06</td>\n",
       "    </tr>\n",
       "    <tr>\n",
       "      <th>3</th>\n",
       "      <td>1100937408</td>\n",
       "      <td>9.404613e+05</td>\n",
       "    </tr>\n",
       "    <tr>\n",
       "      <th>4</th>\n",
       "      <td>1101037972</td>\n",
       "      <td>9.981298e+05</td>\n",
       "    </tr>\n",
       "    <tr>\n",
       "      <th>...</th>\n",
       "      <td>...</td>\n",
       "      <td>...</td>\n",
       "    </tr>\n",
       "    <tr>\n",
       "      <th>34681</th>\n",
       "      <td>1101369263</td>\n",
       "      <td>1.026354e+06</td>\n",
       "    </tr>\n",
       "    <tr>\n",
       "      <th>34682</th>\n",
       "      <td>1101369581</td>\n",
       "      <td>2.694836e+06</td>\n",
       "    </tr>\n",
       "    <tr>\n",
       "      <th>34683</th>\n",
       "      <td>1101364889</td>\n",
       "      <td>2.611007e+05</td>\n",
       "    </tr>\n",
       "    <tr>\n",
       "      <th>34684</th>\n",
       "      <td>1101362518</td>\n",
       "      <td>1.505994e+06</td>\n",
       "    </tr>\n",
       "    <tr>\n",
       "      <th>34685</th>\n",
       "      <td>1101256068</td>\n",
       "      <td>8.680215e+05</td>\n",
       "    </tr>\n",
       "  </tbody>\n",
       "</table>\n",
       "<p>34686 rows × 2 columns</p>\n",
       "</div>"
      ],
      "text/plain": [
       "          sell_id         price\n",
       "0      1100575026  9.867622e+05\n",
       "1      1100549428  1.227083e+06\n",
       "2      1100658222  1.197929e+06\n",
       "3      1100937408  9.404613e+05\n",
       "4      1101037972  9.981298e+05\n",
       "...           ...           ...\n",
       "34681  1101369263  1.026354e+06\n",
       "34682  1101369581  2.694836e+06\n",
       "34683  1101364889  2.611007e+05\n",
       "34684  1101362518  1.505994e+06\n",
       "34685  1101256068  8.680215e+05\n",
       "\n",
       "[34686 rows x 2 columns]"
      ]
     },
     "execution_count": 253,
     "metadata": {},
     "output_type": "execute_result"
    }
   ],
   "source": [
    "submission"
   ]
  },
  {
   "cell_type": "code",
   "execution_count": 254,
   "metadata": {},
   "outputs": [],
   "source": [
    "submission.to_csv('results.csv', index=False)"
   ]
  },
  {
   "cell_type": "markdown",
   "metadata": {},
   "source": [
    "Попробуем  бэггинг GRB"
   ]
  },
  {
   "cell_type": "code",
   "execution_count": 325,
   "metadata": {},
   "outputs": [],
   "source": [
    "#Обучим модель на всех спарсенных данных\n",
    "bagg_gbr.fit(X,np.log(y))\n",
    "X_sub = data.query('sample == 0').drop(['sample','price'], axis=1)\n",
    "pred_sub = np.exp(bagg_gbr.predict(X_sub))"
   ]
  },
  {
   "cell_type": "code",
   "execution_count": 326,
   "metadata": {},
   "outputs": [],
   "source": [
    "submission = pd.read_csv('test.csv')"
   ]
  },
  {
   "cell_type": "code",
   "execution_count": 327,
   "metadata": {},
   "outputs": [],
   "source": [
    "submission['price'] = pred_sub"
   ]
  },
  {
   "cell_type": "code",
   "execution_count": 328,
   "metadata": {},
   "outputs": [],
   "source": [
    "submission = submission[['sell_id','price']]"
   ]
  },
  {
   "cell_type": "code",
   "execution_count": 329,
   "metadata": {},
   "outputs": [],
   "source": [
    "submission.to_csv('results_2.csv', index=False)"
   ]
  },
  {
   "cell_type": "markdown",
   "metadata": {},
   "source": [
    "Попробуем RF"
   ]
  },
  {
   "cell_type": "code",
   "execution_count": 330,
   "metadata": {},
   "outputs": [],
   "source": [
    "#Обучим модель на всех спарсенных данных\n",
    "best_rfr.fit(X,np.log(y))\n",
    "X_sub = data.query('sample == 0').drop(['sample','price'], axis=1)\n",
    "pred_sub = np.exp(best_rfr.predict(X_sub))\n",
    "submission = pd.read_csv('test.csv')\n",
    "submission['price'] = pred_sub\n",
    "submission = submission[['sell_id','price']]\n",
    "submission.to_csv('results_3.csv', index=False)"
   ]
  },
  {
   "cell_type": "markdown",
   "metadata": {},
   "source": [
    "Попробуем стэкинг"
   ]
  },
  {
   "cell_type": "code",
   "execution_count": 332,
   "metadata": {},
   "outputs": [],
   "source": [
    "#Обучим модель на всех спарсенных данных\n",
    "st_ensemble.fit(X,np.log(y))\n",
    "X_sub = data.query('sample == 0').drop(['sample','price'], axis=1)\n",
    "pred_sub = np.exp(st_ensemble.predict(X_sub))\n",
    "submission = pd.read_csv('test.csv')\n",
    "submission['price'] = pred_sub\n",
    "submission = submission[['sell_id','price']]\n",
    "submission.to_csv('results_4.csv', index=False)"
   ]
  },
  {
   "cell_type": "markdown",
   "metadata": {},
   "source": [
    "Попробуем бэггинг rf"
   ]
  },
  {
   "cell_type": "code",
   "execution_count": 333,
   "metadata": {},
   "outputs": [],
   "source": [
    "#Обучим модель на всех спарсенных данных\n",
    "bagg_rfr.fit(X,np.log(y))\n",
    "X_sub = data.query('sample == 0').drop(['sample','price'], axis=1)\n",
    "pred_sub = np.exp(bagg_rfr.predict(X_sub))\n",
    "submission = pd.read_csv('test.csv')\n",
    "submission['price'] = pred_sub\n",
    "submission = submission[['sell_id','price']]\n",
    "submission.to_csv('results_5.csv', index=False)"
   ]
  },
  {
   "cell_type": "markdown",
   "metadata": {},
   "source": [
    "Таким образом, оказалось, что наилучшую ошибку показал Random Forest с регуляризацией"
   ]
  },
  {
   "cell_type": "code",
   "execution_count": null,
   "metadata": {},
   "outputs": [],
   "source": []
  }
 ],
 "metadata": {
  "kernelspec": {
   "display_name": "Python 3",
   "language": "python",
   "name": "python3"
  },
  "language_info": {
   "codemirror_mode": {
    "name": "ipython",
    "version": 3
   },
   "file_extension": ".py",
   "mimetype": "text/x-python",
   "name": "python",
   "nbconvert_exporter": "python",
   "pygments_lexer": "ipython3",
   "version": "3.8.3"
  }
 },
 "nbformat": 4,
 "nbformat_minor": 4
}
